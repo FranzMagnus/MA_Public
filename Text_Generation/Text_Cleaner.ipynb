{
 "cells": [
  {
   "cell_type": "code",
   "execution_count": 1,
   "metadata": {},
   "outputs": [],
   "source": [
    "import os\n",
    "import pandas as pd\n",
    "import numpy as np"
   ]
  },
  {
   "cell_type": "code",
   "execution_count": 2,
   "metadata": {},
   "outputs": [],
   "source": [
    "data_path = os.path.join(os.path.dirname(os.path.dirname(os.getcwd())),'OP-Berichte_ASK_fixed.xlsx')"
   ]
  },
  {
   "cell_type": "code",
   "execution_count": null,
   "metadata": {},
   "outputs": [],
   "source": [
    "os.getcwd()\n"
   ]
  },
  {
   "cell_type": "code",
   "execution_count": null,
   "metadata": {},
   "outputs": [],
   "source": [
    "#Load all reports\n",
    "xls = pd.ExcelFile(data_path)"
   ]
  },
  {
   "cell_type": "code",
   "execution_count": null,
   "metadata": {},
   "outputs": [],
   "source": [
    "xls.sheet_names"
   ]
  },
  {
   "cell_type": "code",
   "execution_count": null,
   "metadata": {},
   "outputs": [],
   "source": [
    "# Load the reports into a structured dataframe\n",
    "\n",
    "df_final = pd.DataFrame(columns=['Indikation', 'Operation', 'ICD-Code', 'Diagnose', 'ICPM-Code', 'Prozedurentext'])\n",
    "for x in xls.sheet_names:    \n",
    "    df = xls.parse(sheet_name=x, header=None)\n",
    "    df = df.transpose()\n",
    "    headers = df.iloc[0].values\n",
    "    df.columns = headers\n",
    "    df.drop(index=0, axis=0, inplace=True)\n",
    "    df_final.loc[len(df_final.index)] = df[df.columns[[0,1,3,4,5,6]]].values[0]"
   ]
  },
  {
   "cell_type": "code",
   "execution_count": 7,
   "metadata": {},
   "outputs": [],
   "source": [
    "df = df_final"
   ]
  },
  {
   "cell_type": "code",
   "execution_count": null,
   "metadata": {},
   "outputs": [],
   "source": [
    "df[0:16]"
   ]
  },
  {
   "cell_type": "code",
   "execution_count": 9,
   "metadata": {},
   "outputs": [],
   "source": [
    "#Removes unwanted Characters from the sentences\n",
    "#Removes \\n\n",
    "df['Indikation'] = df['Indikation'].str.replace(r'\\n', '', regex=True)\n",
    "df['Operation'] = df['Operation'].str.replace(r'\\n', '', regex=True)\n",
    "\n",
    "\n",
    "#Removes empty Rows \n",
    "df.replace('', np.nan, inplace=True)\n",
    "#df.dropna(subset=['Indikation'], inplace=True)\n",
    "df.dropna(subset=['Operation'], inplace=True)\n",
    "'''df.dropna(subset=['ICD-Code'], inplace=True)\n",
    "df.dropna(subset=['ICPM-Code'], inplace=True)\n",
    "df.reset_index(drop = True, inplace=True)'''\n",
    "\n",
    "#Removes Duplicates\n",
    "df.drop_duplicates(inplace=True, ignore_index=True)"
   ]
  },
  {
   "cell_type": "code",
   "execution_count": 12,
   "metadata": {},
   "outputs": [],
   "source": [
    "df.to_csv(os.path.join(os.path.dirname(os.path.dirname(os.getcwd())),'cleaned.csv'), index=False)"
   ]
  },
  {
   "cell_type": "code",
   "execution_count": 39,
   "metadata": {},
   "outputs": [],
   "source": [
    "ops = df['Operation'].to_list()"
   ]
  },
  {
   "cell_type": "code",
   "execution_count": null,
   "metadata": {},
   "outputs": [],
   "source": [
    "len(ops)"
   ]
  },
  {
   "cell_type": "markdown",
   "metadata": {},
   "source": [
    "Compare the reports "
   ]
  },
  {
   "cell_type": "code",
   "execution_count": null,
   "metadata": {},
   "outputs": [],
   "source": [
    "import evaluate\n",
    "from sklearn.model_selection import LeaveOneOut\n",
    "import random\n",
    "\n",
    "#Split reports into 2 random halves\n",
    "\n",
    "random.shuffle(ops)\n",
    "\n",
    "preds =  ops[:43]\n",
    "refs = ops[43:86]\n",
    "\n",
    "rouge = evaluate.load('rouge')\n",
    "\n",
    "#Compute ROGUE Metrics\n",
    "result = rouge.compute(predictions=list(preds), references=list(refs))"
   ]
  },
  {
   "cell_type": "code",
   "execution_count": null,
   "metadata": {},
   "outputs": [],
   "source": [
    "from sentence_transformers import SentenceTransformer\n",
    "import torch\n",
    "\n",
    "model = SentenceTransformer(\"all-MiniLM-L6-v2\")\n",
    "\n",
    "# Compute embeddings for both lists\n",
    "embeddings1 = model.encode(refs)\n",
    "embeddings2 = model.encode(preds)\n",
    "\n",
    "# Compute cosine similarities\n",
    "similarities = model.similarity(embeddings1, embeddings2)\n",
    "\n",
    "torch.mean(similarities)"
   ]
  }
 ],
 "metadata": {
  "kernelspec": {
   "display_name": "Athroskopie",
   "language": "python",
   "name": "python3"
  },
  "language_info": {
   "codemirror_mode": {
    "name": "ipython",
    "version": 3
   },
   "file_extension": ".py",
   "mimetype": "text/x-python",
   "name": "python",
   "nbconvert_exporter": "python",
   "pygments_lexer": "ipython3",
   "version": "3.10.13"
  }
 },
 "nbformat": 4,
 "nbformat_minor": 2
}
