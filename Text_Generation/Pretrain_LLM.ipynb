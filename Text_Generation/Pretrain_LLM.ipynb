{
 "cells": [
  {
   "cell_type": "code",
   "execution_count": 1,
   "metadata": {},
   "outputs": [],
   "source": [
    "#https://tuanatran.medium.com/fine-tuning-large-language-model-with-hugging-face-pytorch-adce80dce2ad"
   ]
  },
  {
   "cell_type": "code",
   "execution_count": 1,
   "metadata": {},
   "outputs": [],
   "source": [
    "from transformers import GPT2TokenizerFast, GPT2Config, GPT2LMHeadModel\n",
    "from transformers import get_linear_schedule_with_warmup\n",
    "\n",
    "import torch\n",
    "from torch.optim import AdamW\n",
    "from torch.utils.data import Dataset, DataLoader\n",
    "from torch.utils.data import random_split, RandomSampler, SequentialSampler\n",
    "\n",
    "import pandas as pd\n",
    "import os\n",
    "from tqdm import tqdm"
   ]
  },
  {
   "cell_type": "code",
   "execution_count": null,
   "metadata": {},
   "outputs": [],
   "source": [
    "# setting device on GPU if available, else CPU\n",
    "device = torch.device('cuda:0' if torch.cuda.is_available() else 'cpu')\n",
    "print('Using device:', device)\n",
    "print()\n",
    "\n",
    "#Additional Info when using cuda\n",
    "if device.type == 'cuda':\n",
    "    print(torch.cuda.get_device_name(0))\n",
    "    print('Memory Usage:')\n",
    "    print('Allocated:', round(torch.cuda.memory_allocated(0)/1024**3,1), 'GB')\n",
    "    print('Cached:   ', round(torch.cuda.memory_reserved(0)/1024**3,1), 'GB')"
   ]
  },
  {
   "cell_type": "code",
   "execution_count": null,
   "metadata": {},
   "outputs": [],
   "source": [
    "#Define the model to use\n",
    "\n",
    "# model_name: ['gpt2', 'google-bert/bert-base-german-cased', 'dmis-lab/biobert-v1.1', 'google/flan-t5-base']\n",
    "model_name = \"gpt2\" \n",
    "path = os.path.dirname(os.getcwd()) + \"\\\\Text_Generation\\\\Models\\\\pretrained_gpt2_v2\"\n",
    "model_save_path = path"
   ]
  },
  {
   "cell_type": "code",
   "execution_count": 5,
   "metadata": {},
   "outputs": [],
   "source": [
    "data_path = os.path.join(os.path.dirname(os.path.dirname(os.getcwd())),'cleaned.csv')"
   ]
  },
  {
   "cell_type": "code",
   "execution_count": null,
   "metadata": {},
   "outputs": [],
   "source": [
    "data_path"
   ]
  },
  {
   "cell_type": "code",
   "execution_count": null,
   "metadata": {},
   "outputs": [],
   "source": [
    "# Add sos and eos tokens to the strings\n",
    "\n",
    "df = pd.read_csv(data_path)\n",
    "df.reset_index(drop=True, inplace=True)\n",
    "\n",
    "def form_string(operation):\n",
    "    s = f\"<|startoftext|>{operation.strip()}<|endoftext|>\" \n",
    "    return s\n",
    "\n",
    "data = df.apply(lambda x:form_string(x['Operation']), axis=1).to_list()\n",
    "data[0]"
   ]
  },
  {
   "cell_type": "code",
   "execution_count": null,
   "metadata": {},
   "outputs": [],
   "source": [
    "# initialize the tokenizer\n",
    "\n",
    "tokenizer = GPT2TokenizerFast.from_pretrained(model_name,\n",
    "                                            bos_token='<|startoftext|>',\n",
    "                                            eos_token='<|endoftext|>',\n",
    "                                            unk_token='<|unknown|>',\n",
    "                                            pad_token='<|pad|>'\n",
    "                                            )"
   ]
  },
  {
   "cell_type": "code",
   "execution_count": null,
   "metadata": {},
   "outputs": [],
   "source": [
    "#Dataset class for training, turns tokenizes input strings \n",
    "\n",
    "class SurgicalReportDataset(Dataset):\n",
    "    def __init__(self, data, tokenizer):\n",
    "        self.data = data\n",
    "        self.input_ids = []\n",
    "        self.attn_masks = []\n",
    "\n",
    "        for opbericht in data:\n",
    "            encodings = tokenizer.encode_plus(opbericht,\n",
    "                                              truncation=True,\n",
    "                                              padding='max_length',\n",
    "                                              max_length = 1024,\n",
    "                                              return_tensors='pt'       \n",
    "                                             )\n",
    "            self.input_ids.append(torch.squeeze(encodings['input_ids'],0))\n",
    "            self.attn_masks.append(torch.squeeze(encodings['attention_mask'],0))\n",
    "\n",
    "\n",
    "    def __len__(self):\n",
    "        return len(self.data)\n",
    "\n",
    "    def __getitem__(self,idx):\n",
    "        return self.input_ids[idx], self.attn_masks[idx]"
   ]
  },
  {
   "cell_type": "code",
   "execution_count": 10,
   "metadata": {},
   "outputs": [],
   "source": [
    "batch_size = 4\n",
    "\n",
    "dataset = SurgicalReportDataset(data, tokenizer)"
   ]
  },
  {
   "cell_type": "code",
   "execution_count": null,
   "metadata": {},
   "outputs": [],
   "source": [
    "# Initialize train eval split\n",
    "\n",
    "train_size = int(0.9 * len(dataset))\n",
    "val_size = len(dataset) - train_size\n",
    "\n",
    "train_dataset, val_dataset = random_split(dataset, [train_size, val_size])\n",
    "\n",
    "train_dataloader = DataLoader(\n",
    "            train_dataset, \n",
    "            sampler = RandomSampler(train_dataset),\n",
    "            batch_size = batch_size\n",
    ")\n",
    "\n",
    "validation_dataloader = DataLoader(\n",
    "            val_dataset, \n",
    "            sampler = SequentialSampler(val_dataset),\n",
    "            batch_size = batch_size\n",
    "        )"
   ]
  },
  {
   "cell_type": "code",
   "execution_count": null,
   "metadata": {},
   "outputs": [],
   "source": [
    "# Load model and initialize training parameters\n",
    "\n",
    "configuration = GPT2Config.from_pretrained(model_name, is_decoder = True)\n",
    "model = GPT2LMHeadModel.from_pretrained(model_name, config=configuration)\n",
    "model = model.to(device)\n",
    "model.resize_token_embeddings(len(tokenizer))\n",
    "\n",
    "epochs = 50\n",
    "learning_rate = 2e-5\n",
    "warmup_steps = 1e2\n",
    "\n",
    "epsilon = 1e-8\n",
    "optim = AdamW(model.parameters(), lr = learning_rate, eps = epsilon)\n",
    "\n",
    "total_steps = len(train_dataloader) * epochs  \n",
    "\n",
    "\n",
    "scheduler = get_linear_schedule_with_warmup(optim,\n",
    "                                            num_warmup_steps=warmup_steps,\n",
    "                                            num_training_steps=total_steps)"
   ]
  },
  {
   "cell_type": "code",
   "execution_count": null,
   "metadata": {},
   "outputs": [],
   "source": [
    "model"
   ]
  },
  {
   "cell_type": "code",
   "execution_count": 14,
   "metadata": {},
   "outputs": [],
   "source": [
    "eval_loss = {}"
   ]
  },
  {
   "cell_type": "code",
   "execution_count": null,
   "metadata": {},
   "outputs": [],
   "source": [
    "#Trainings Loop\n",
    "\n",
    "for epoch_i in range(0, epochs):\n",
    "    total_train_loss = 0\n",
    "    model.train() \n",
    "\n",
    "    for step, batch in tqdm(enumerate(train_dataloader), total= len(train_dataloader), desc=\"Epoch: [{}]\".format(epoch_i)): \n",
    "        b_input_ids = batch[0].to(device) \n",
    "        b_labels    = batch[0].to(device)\n",
    "        b_masks     = batch[1].to(device) \n",
    "\n",
    "        model.zero_grad()\n",
    "        outputs = model( input_ids = b_input_ids, labels = b_labels,\n",
    "                         attention_mask = b_masks, token_type_ids = None )\n",
    "\n",
    "        loss = outputs[0]\n",
    "        loss.backward()\n",
    "        optim.step()\n",
    "        scheduler.step()\n",
    "        \n",
    "    print('Trainings Loss: {:1.4}'.format(loss.item()))\n",
    "    model.eval()\n",
    "    # Evaluate data for one epoch\n",
    "    for batch in validation_dataloader:\n",
    "        b_input_ids = batch[0].to(device)\n",
    "        b_labels    = batch[0].to(device)\n",
    "        b_masks     = batch[1].to(device)\n",
    "\n",
    "        with torch.no_grad():\n",
    "            outputs  = model(input_ids = b_input_ids, labels = b_labels,\n",
    "                             attention_mask = b_masks)\n",
    "            loss = outputs[0]\n",
    "    print('Validation Loss: {:1.4}'.format(loss.item()))\n",
    "    eval_loss[epoch_i] = loss.item()\n",
    "\n",
    "model.save_pretrained(model_save_path)\n",
    "tokenizer.save_pretrained(model_save_path)\n"
   ]
  },
  {
   "cell_type": "code",
   "execution_count": 21,
   "metadata": {},
   "outputs": [
    {
     "data": {
      "image/png": "[encoded data removed]",
      "text/plain": [
       "<Figure size 640x480 with 1 Axes>"
      ]
     },
     "metadata": {},
     "output_type": "display_data"
    }
   ],
   "source": [
    "import matplotlib.pyplot as plt\n",
    "from numpy import arange\n",
    "\n",
    "# Load the training and validation loss dictionaries\n",
    "val_loss = eval_loss\n",
    " \n",
    "# Retrieve each dictionary's values\n",
    "val_values = []\n",
    "\n",
    "for x in val_loss:\n",
    "    val_values.append(val_loss[x])\n",
    " \n",
    "y = len(val_values)+1\n",
    "# Generate a sequence of integers to represent the epoch numbers\n",
    "epochs = range(1, y)\n",
    " \n",
    "# Plot and label the training and validation loss values\n",
    "plt.plot(epochs, val_values, label='Validation Loss')\n",
    " \n",
    "# Add in a title and axes labels\n",
    "plt.title('Validation Loss')\n",
    "plt.xlabel('Epochs')\n",
    "plt.ylabel('Loss')\n",
    " \n",
    "# Set the tick locations\n",
    "plt.xticks(arange(0, y, 5))\n",
    " \n",
    "# Display the plot\n",
    "plt.legend(loc='best')\n",
    "plt.show()"
   ]
  },
  {
   "cell_type": "markdown",
   "metadata": {},
   "source": [
    "Testing:"
   ]
  },
  {
   "cell_type": "code",
   "execution_count": 5,
   "metadata": {},
   "outputs": [],
   "source": [
    "model_name = os.path.dirname(os.getcwd()) + \"\\\\Text_Generation\\\\Models\\\\pretrained_gpt2_v2\"\n",
    "tokenizer = GPT2TokenizerFast.from_pretrained(model_name,\n",
    "                                              bos_token='<|startoftext|>',\n",
    "                                              eos_token='<|endoftext|>',\n",
    "                                              unk_token='<|unknown|>',\n",
    "                                              pad_token='<|pad|>'\n",
    "                                             )\n",
    "configuration = GPT2Config.from_pretrained(model_name)\n",
    "model = GPT2LMHeadModel.from_pretrained(model_name, config=configuration)\n",
    "model = model.to(device)"
   ]
  },
  {
   "cell_type": "code",
   "execution_count": 6,
   "metadata": {},
   "outputs": [],
   "source": [
    "# Generate a output based on input string, outputs a generated a greedy generated string and a beam generated string.\n",
    "\n",
    "def infer(prompt):\n",
    "    input = f\"<|startoftext|>{prompt.strip()}\"\n",
    "    input = tokenizer(input, return_tensors=\"pt\")\n",
    "    input_ids      = input[\"input_ids\"]\n",
    "    attention_mask = input[\"attention_mask\"]\n",
    "\n",
    "    output_topk = model.generate(input_ids.to(device),\n",
    "                            attention_mask=attention_mask.to(device),\n",
    "                            max_length = 1024,\n",
    "                            do_sample = True, \n",
    "                            top_k = 50, \n",
    "                            top_p = 0.85,\n",
    "                            renormalize_logits = True)\n",
    "    \n",
    "    output_beam = model.generate(input_ids.to(device),\n",
    "                            attention_mask=attention_mask.to(device),\n",
    "                            max_length = 1024,\n",
    "                            early_stopping = True,\n",
    "                            do_sample = True, \n",
    "                            top_k = 50, \n",
    "                            top_p = 0.85,\n",
    "                            num_beams = 4,\n",
    "                            renormalize_logits = True)\n",
    "    output_topk = tokenizer.decode(output_topk[0], skip_special_tokens=True)\n",
    "    output_beam = tokenizer.decode(output_beam[0], skip_special_tokens=True)\n",
    "    return output_topk, output_beam"
   ]
  },
  {
   "cell_type": "code",
   "execution_count": null,
   "metadata": {},
   "outputs": [],
   "source": [
    "top_k = []\n",
    "beam = []\n",
    "for i in range(25):\n",
    "    out_k, out_beam = infer('Ablauf:')\n",
    "    top_k.append(out_k)\n",
    "    beam.append(out_beam)"
   ]
  },
  {
   "cell_type": "code",
   "execution_count": null,
   "metadata": {},
   "outputs": [],
   "source": [
    "top_k"
   ]
  },
  {
   "cell_type": "code",
   "execution_count": null,
   "metadata": {},
   "outputs": [],
   "source": [
    "beam"
   ]
  },
  {
   "cell_type": "code",
   "execution_count": 11,
   "metadata": {},
   "outputs": [],
   "source": [
    "report_path = os.path.join(os.path.dirname(os.path.dirname(os.getcwd())),'cleaned.csv')\n",
    "df = pd.read_csv(report_path)\n",
    "df.reset_index(drop=True, inplace=True)"
   ]
  },
  {
   "cell_type": "code",
   "execution_count": 14,
   "metadata": {},
   "outputs": [
    {
     "name": "stdout",
     "output_type": "stream",
     "text": [
      "Greedy:  {'rouge1': 0.8138861401328383, 'rouge2': 0.7472317820765302, 'rougeL': 0.777413043138942, 'rougeLsum': 0.7786336654387764}\n",
      "Beam:  {'rouge1': 0.8140157063504891, 'rouge2': 0.7459408045947378, 'rougeL': 0.777693910201936, 'rougeLsum': 0.7788819558510198}\n"
     ]
    }
   ],
   "source": [
    "#Evaluate the generated reports\n",
    "import evaluate\n",
    "import random\n",
    "\n",
    "rouge = evaluate.load('rouge')\n",
    "\n",
    "\n",
    "\n",
    "random.seed(99)\n",
    "references = random.choices(df['Operation'].to_list(), k=25)\n",
    "\n",
    "candidates = top_k\n",
    "results = rouge.compute(predictions=candidates, references=references)\n",
    "print('Greedy: ', results)\n",
    "\n",
    "candidates = beam\n",
    "results = rouge.compute(predictions=candidates, references=references)\n",
    "print('Beam: ', results)"
   ]
  },
  {
   "cell_type": "code",
   "execution_count": 16,
   "metadata": {},
   "outputs": [
    {
     "name": "stdout",
     "output_type": "stream",
     "text": [
      "Greedy:  tensor(0.8028)\n",
      "Beam:  tensor(0.8018)\n"
     ]
    }
   ],
   "source": [
    "from sentence_transformers import SentenceTransformer\n",
    "import torch\n",
    "\n",
    "model = SentenceTransformer(\"all-MiniLM-L6-v2\")\n",
    "\n",
    "# Compute embeddings for both lists\n",
    "embeddings1 = model.encode(references)\n",
    "embeddings2 = model.encode(top_k)\n",
    "embeddings3 = model.encode(beam)\n",
    "\n",
    "# Compute cosine similarities\n",
    "similarities_greedy = model.similarity(embeddings1, embeddings2)\n",
    "\n",
    "similarities_beam = model.similarity(embeddings1, embeddings3)\n",
    "\n",
    "print('Greedy: ', torch.mean(similarities_greedy))\n",
    "\n",
    "print('Beam: ', torch.mean(similarities_beam))"
   ]
  }
 ],
 "metadata": {
  "kernelspec": {
   "display_name": "Athroskopie",
   "language": "python",
   "name": "python3"
  },
  "language_info": {
   "codemirror_mode": {
    "name": "ipython",
    "version": 3
   },
   "file_extension": ".py",
   "mimetype": "text/x-python",
   "name": "python",
   "nbconvert_exporter": "python",
   "pygments_lexer": "ipython3",
   "version": "3.10.13"
  }
 },
 "nbformat": 4,
 "nbformat_minor": 2
}
