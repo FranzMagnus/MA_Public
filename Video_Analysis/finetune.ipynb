{
 "cells": [
  {
   "cell_type": "code",
   "execution_count": 1,
   "metadata": {},
   "outputs": [],
   "source": [
    "#https://colab.research.google.com/drive/1WIk2bxglElfZewOHboPFNj8H44_VAyKE?usp=sharing#scrollTo=ZwQIEhKOrJpl"
   ]
  },
  {
   "cell_type": "code",
   "execution_count": 1,
   "metadata": {},
   "outputs": [],
   "source": [
    "from transformers import GPT2TokenizerFast, GPT2LMHeadModel, GPT2Config, GenerationConfig\n",
    "import nltk\n",
    "import evaluate\n",
    "import os\n",
    "import torch\n",
    "import torch.nn as nn\n",
    "from sklearn.model_selection import train_test_split\n",
    "from torch.utils.data import DataLoader, Dataset\n",
    "from encoder import CustomEncoder\n",
    "from pickle import load\n",
    "from matplotlib.pylab import plt\n",
    "from numpy import arange\n",
    "import pandas as pd"
   ]
  },
  {
   "cell_type": "markdown",
   "metadata": {},
   "source": [
    "Dataloader"
   ]
  },
  {
   "cell_type": "code",
   "execution_count": 2,
   "metadata": {},
   "outputs": [],
   "source": [
    "path =  os.path.join(os.path.dirname(os.path.dirname(os.getcwd())))\n",
    "\n",
    "def read_data():\n",
    "    output = []\n",
    "    dir_path = os.path.join(path,'Data', 'analyzed_imgs')\n",
    "    dir = os.listdir(dir_path)\n",
    "    for file in dir:\n",
    "        if \"p11\" not in file:\n",
    "            with open(os.path.join(dir_path, file), \"rb\") as input_file:\n",
    "                dict = load(input_file)\n",
    "            output.append(dict)\n",
    "    return output "
   ]
  },
  {
   "cell_type": "code",
   "execution_count": 3,
   "metadata": {},
   "outputs": [],
   "source": [
    "data = read_data()"
   ]
  },
  {
   "cell_type": "code",
   "execution_count": 5,
   "metadata": {},
   "outputs": [],
   "source": [
    "tokenizer = GPT2TokenizerFast.from_pretrained(os.path.join(path, 'Code', 'Video_Analysis', 'Models', 'tokenizer_v2'))"
   ]
  },
  {
   "cell_type": "code",
   "execution_count": 6,
   "metadata": {},
   "outputs": [],
   "source": [
    "class video2reportDataset(Dataset):\n",
    "    def __init__(self, data, tokenizer):\n",
    "        self.data = data\n",
    "        self.tokenizer = tokenizer\n",
    "\n",
    "    def __len__(self):\n",
    "        return len(self.data)\n",
    "\n",
    "    def __getitem__(self, idx):\n",
    "        \n",
    "        data = self.data[idx]\n",
    "        \n",
    "        input = torch.stack(([data['icd_icpm']]+data['frames']))           \n",
    "        \n",
    "        opbericht = data['Ablauf']    \n",
    "        opbericht = f\"<|startoftext|>{opbericht.strip()}<|endoftext|>\"\n",
    "        # Tokenize target\n",
    "        target = self.tokenizer.encode_plus(opbericht,\n",
    "                                              truncation=True,\n",
    "                                              padding='max_length',\n",
    "                                              max_length = 1024,\n",
    "                                              return_tensors='pt')\n",
    "\n",
    "        return {\"inputs\": input, \n",
    "                \"labels\": torch.squeeze(target['input_ids'],0), \n",
    "                \"attn_mask\": torch.squeeze(target['attention_mask'],0)}"
   ]
  },
  {
   "cell_type": "markdown",
   "metadata": {},
   "source": [
    "Model"
   ]
  },
  {
   "cell_type": "code",
   "execution_count": 7,
   "metadata": {},
   "outputs": [],
   "source": [
    "class video2report(nn.Module):\n",
    "    def __init__(self, decoder_name):\n",
    "        super().__init__()\n",
    "        self.encoder = CustomEncoder(d_model=768, num_layers=12, num_heads=12, d_ff=1024)\n",
    "        configuration = GPT2Config.from_pretrained(decoder_name, is_decoder = True, add_cross_attention = True, loss_type = 'ForCausalLMLoss')\n",
    "        self.decoder = GPT2LMHeadModel.from_pretrained(decoder_name, config=configuration)\n",
    "    \n",
    "    def forward(self, x, inputs, attn_mask):\n",
    "        x = self.encoder(x)\n",
    "\n",
    "        out = self.decoder(input_ids = inputs, labels = inputs, attention_mask= attn_mask, encoder_hidden_states = x)\n",
    "        return out\n",
    "    \n",
    "    def generate(self, x, inputs, attn_mask, generation_config):\n",
    "        x = self.encoder(x)\n",
    "\n",
    "        output = self.decoder.generate(inputs = inputs,\n",
    "                                       generation_config = generation_config,\n",
    "                                       attention_mask = attn_mask,\n",
    "                                       encoder_hidden_states = x)\n",
    "        \n",
    "        return output"
   ]
  },
  {
   "cell_type": "code",
   "execution_count": null,
   "metadata": {},
   "outputs": [],
   "source": [
    "val_loss = load(open(os.path.join(path,'Code', 'Video_Analysis', 'Models', 'folds_eval_loss.pkl'), 'rb'))\n",
    "\n",
    "val_loss"
   ]
  },
  {
   "cell_type": "code",
   "execution_count": null,
   "metadata": {},
   "outputs": [],
   "source": [
    "decoder = os.path.join(path, 'Code', 'Text_Generation', 'Models', 'pretrained_gpt2_v2')\n",
    "model = video2report(decoder_name=decoder)\n",
    "model.load_state_dict(torch.load(os.path.join(path,'Code', 'Video_Analysis', 'Models', 'video2report_fold_2.pth'), weights_only=True))"
   ]
  },
  {
   "cell_type": "markdown",
   "metadata": {},
   "source": [
    "Testing"
   ]
  },
  {
   "cell_type": "code",
   "execution_count": 10,
   "metadata": {},
   "outputs": [],
   "source": [
    "test = load(open(os.path.join(path,'Code', 'Video_Analysis', 'Models', 'test_data_fold_2.pkl'), 'rb'))\n",
    "reference = test[0]['Ablauf'] \n",
    "test_data = video2reportDataset(test, tokenizer=tokenizer)"
   ]
  },
  {
   "cell_type": "code",
   "execution_count": null,
   "metadata": {},
   "outputs": [],
   "source": [
    "len(test_data.__getitem__(0)['inputs'])"
   ]
  },
  {
   "cell_type": "code",
   "execution_count": 12,
   "metadata": {},
   "outputs": [],
   "source": [
    "device = torch.device('cuda' if torch.cuda.is_available() else 'cpu')\n",
    "model = model.to(device)"
   ]
  },
  {
   "cell_type": "code",
   "execution_count": 13,
   "metadata": {},
   "outputs": [],
   "source": [
    "greedy_config = GenerationConfig(max_new_tokens = 128,\n",
    "                            do_sample = True, \n",
    "                            top_k = 50, \n",
    "                            top_p = 0.85,\n",
    "                            renormalize_logits = True)\n",
    "\n",
    "beam_config = GenerationConfig(max_new_tokens = 32,\n",
    "                            early_stopping = True,\n",
    "                            do_sample = True, \n",
    "                            top_k = 50, \n",
    "                            top_p = 0.85,\n",
    "                            num_beams = 4,\n",
    "                            renormalize_logits = True)"
   ]
  },
  {
   "cell_type": "code",
   "execution_count": 14,
   "metadata": {},
   "outputs": [],
   "source": [
    "batch = test_data.__getitem__(0)\n",
    "b_input_ids = batch['inputs'].to(device) "
   ]
  },
  {
   "cell_type": "code",
   "execution_count": 15,
   "metadata": {},
   "outputs": [],
   "source": [
    "def infer(prompt):\n",
    "    input = f\"<|startoftext|>{prompt.strip()}\"\n",
    "    input = tokenizer(input, return_tensors='pt')\n",
    "    input_ids      = input[\"input_ids\"]\n",
    "    attention_mask = input[\"attention_mask\"]\n",
    "\n",
    "    return input_ids, attention_mask"
   ]
  },
  {
   "cell_type": "code",
   "execution_count": 57,
   "metadata": {},
   "outputs": [],
   "source": [
    "text_input = infer('Ablauf:')"
   ]
  },
  {
   "cell_type": "code",
   "execution_count": null,
   "metadata": {},
   "outputs": [],
   "source": [
    "out = model.generate(x = b_input_ids.unsqueeze(0), inputs = text_input[0].to(device), attn_mask = text_input[1].to(device), generation_config=greedy_config)"
   ]
  },
  {
   "cell_type": "code",
   "execution_count": null,
   "metadata": {},
   "outputs": [],
   "source": [
    "out = model.generate(x = b_input_ids.unsqueeze(0), inputs = out, attn_mask = torch.ones(out.size()[1], device=device).unsqueeze(0), generation_config=greedy_config)"
   ]
  },
  {
   "cell_type": "code",
   "execution_count": null,
   "metadata": {},
   "outputs": [],
   "source": [
    "prediction = tokenizer.decode(out[0], skip_special_tokens=True)\n",
    "\n",
    "print(prediction)"
   ]
  },
  {
   "cell_type": "code",
   "execution_count": 85,
   "metadata": {},
   "outputs": [],
   "source": [
    "df = pd.read_excel(os.path.join(path,'Code', 'Video_Analysis', 'results.xlsx'))\n",
    "\n"
   ]
  },
  {
   "cell_type": "code",
   "execution_count": 78,
   "metadata": {},
   "outputs": [],
   "source": [
    "df.to_excel(os.path.join(path,'Code', 'Video_Analysis', 'results.xlsx'), index=False)"
   ]
  },
  {
   "cell_type": "code",
   "execution_count": 80,
   "metadata": {},
   "outputs": [],
   "source": [
    "from sentence_transformers import SentenceTransformer"
   ]
  },
  {
   "cell_type": "code",
   "execution_count": 87,
   "metadata": {},
   "outputs": [],
   "source": [
    "df_results = pd.DataFrame(columns=['Video','Gr R1', 'Gr R2', 'Gr RL', 'Gr SeSi', 'Be R1', 'Be R2', 'Be RL', 'Be SeSi'])\n",
    "\n",
    "metric = evaluate.load(\"rouge\")\n",
    "eval_model = SentenceTransformer(\"all-MiniLM-L6-v2\")\n",
    "\n",
    "for index, row in df.iterrows():\n",
    "    reference = [row['reference']]\n",
    "    greedy = [row['greedy']]\n",
    "    beam = [row['beam']]\n",
    "\n",
    "    rogue_greedy = metric.compute(predictions=greedy, references=reference)\n",
    "    rogue_beam = metric.compute(predictions=beam, references=reference)\n",
    "\n",
    "    embed_pred = eval_model.encode(reference)\n",
    "    embed_greedy = eval_model.encode(greedy)\n",
    "    embed_beam = eval_model.encode(beam)\n",
    "\n",
    "    sesi_greedy = eval_model.similarity(embed_pred, embed_greedy)\n",
    "    sesi_beam = eval_model.similarity(embed_pred, embed_beam)\n",
    "\n",
    "    df_results.loc[len(df_results)] = [row['Video'], rogue_greedy['rouge1'], rogue_greedy['rouge2'], rogue_greedy['rougeL'], sesi_greedy.item(), \n",
    "                                        rogue_beam['rouge1'], rogue_beam['rouge2'], rogue_beam['rougeL'], sesi_beam.item()]\n",
    "    \n",
    "\n",
    "df_results.to_excel(os.path.join(path,'Code', 'Video_Analysis', 'metrics.xlsx'), index=False)"
   ]
  },
  {
   "cell_type": "code",
   "execution_count": 88,
   "metadata": {},
   "outputs": [
    {
     "data": {
      "text/html": [
       "<div>\n",
       "<style scoped>\n",
       "    .dataframe tbody tr th:only-of-type {\n",
       "        vertical-align: middle;\n",
       "    }\n",
       "\n",
       "    .dataframe tbody tr th {\n",
       "        vertical-align: top;\n",
       "    }\n",
       "\n",
       "    .dataframe thead th {\n",
       "        text-align: right;\n",
       "    }\n",
       "</style>\n",
       "<table border=\"1\" class=\"dataframe\">\n",
       "  <thead>\n",
       "    <tr style=\"text-align: right;\">\n",
       "      <th></th>\n",
       "      <th>Video</th>\n",
       "      <th>Gr R1</th>\n",
       "      <th>Gr R2</th>\n",
       "      <th>Gr RL</th>\n",
       "      <th>Gr SeSi</th>\n",
       "      <th>Be R1</th>\n",
       "      <th>Be R2</th>\n",
       "      <th>Be RL</th>\n",
       "      <th>Be SeSi</th>\n",
       "    </tr>\n",
       "  </thead>\n",
       "  <tbody>\n",
       "    <tr>\n",
       "      <th>0</th>\n",
       "      <td>p1</td>\n",
       "      <td>0.870515</td>\n",
       "      <td>0.798122</td>\n",
       "      <td>0.833073</td>\n",
       "      <td>0.952219</td>\n",
       "      <td>0.916905</td>\n",
       "      <td>0.885057</td>\n",
       "      <td>0.916905</td>\n",
       "      <td>0.987767</td>\n",
       "    </tr>\n",
       "    <tr>\n",
       "      <th>1</th>\n",
       "      <td>p2</td>\n",
       "      <td>0.900421</td>\n",
       "      <td>0.855134</td>\n",
       "      <td>0.892006</td>\n",
       "      <td>0.924655</td>\n",
       "      <td>0.916905</td>\n",
       "      <td>0.879310</td>\n",
       "      <td>0.911175</td>\n",
       "      <td>0.979657</td>\n",
       "    </tr>\n",
       "    <tr>\n",
       "      <th>2</th>\n",
       "      <td>p3</td>\n",
       "      <td>0.843931</td>\n",
       "      <td>0.794203</td>\n",
       "      <td>0.841040</td>\n",
       "      <td>0.809241</td>\n",
       "      <td>0.843931</td>\n",
       "      <td>0.791304</td>\n",
       "      <td>0.838150</td>\n",
       "      <td>0.809241</td>\n",
       "    </tr>\n",
       "    <tr>\n",
       "      <th>3</th>\n",
       "      <td>p4</td>\n",
       "      <td>0.815267</td>\n",
       "      <td>0.725881</td>\n",
       "      <td>0.787786</td>\n",
       "      <td>0.809241</td>\n",
       "      <td>0.809668</td>\n",
       "      <td>0.715152</td>\n",
       "      <td>0.779456</td>\n",
       "      <td>0.809241</td>\n",
       "    </tr>\n",
       "    <tr>\n",
       "      <th>4</th>\n",
       "      <td>p5</td>\n",
       "      <td>0.719562</td>\n",
       "      <td>0.650206</td>\n",
       "      <td>0.651163</td>\n",
       "      <td>0.815734</td>\n",
       "      <td>0.911932</td>\n",
       "      <td>0.871795</td>\n",
       "      <td>0.900568</td>\n",
       "      <td>0.977397</td>\n",
       "    </tr>\n",
       "    <tr>\n",
       "      <th>5</th>\n",
       "      <td>p6</td>\n",
       "      <td>0.790932</td>\n",
       "      <td>0.722222</td>\n",
       "      <td>0.773300</td>\n",
       "      <td>0.836771</td>\n",
       "      <td>0.801027</td>\n",
       "      <td>0.738739</td>\n",
       "      <td>0.788190</td>\n",
       "      <td>0.801240</td>\n",
       "    </tr>\n",
       "    <tr>\n",
       "      <th>6</th>\n",
       "      <td>p7</td>\n",
       "      <td>0.842434</td>\n",
       "      <td>0.754304</td>\n",
       "      <td>0.808112</td>\n",
       "      <td>0.914826</td>\n",
       "      <td>0.841941</td>\n",
       "      <td>0.753532</td>\n",
       "      <td>0.807512</td>\n",
       "      <td>0.917525</td>\n",
       "    </tr>\n",
       "    <tr>\n",
       "      <th>7</th>\n",
       "      <td>p8</td>\n",
       "      <td>0.788148</td>\n",
       "      <td>0.704309</td>\n",
       "      <td>0.755556</td>\n",
       "      <td>0.873048</td>\n",
       "      <td>0.801187</td>\n",
       "      <td>0.705357</td>\n",
       "      <td>0.762611</td>\n",
       "      <td>0.880682</td>\n",
       "    </tr>\n",
       "    <tr>\n",
       "      <th>8</th>\n",
       "      <td>p9</td>\n",
       "      <td>0.957516</td>\n",
       "      <td>0.937705</td>\n",
       "      <td>0.954248</td>\n",
       "      <td>0.964256</td>\n",
       "      <td>0.920684</td>\n",
       "      <td>0.892356</td>\n",
       "      <td>0.917574</td>\n",
       "      <td>0.884399</td>\n",
       "    </tr>\n",
       "    <tr>\n",
       "      <th>9</th>\n",
       "      <td>p10</td>\n",
       "      <td>0.939617</td>\n",
       "      <td>0.918759</td>\n",
       "      <td>0.936672</td>\n",
       "      <td>0.840587</td>\n",
       "      <td>0.961538</td>\n",
       "      <td>0.949555</td>\n",
       "      <td>0.961538</td>\n",
       "      <td>0.859704</td>\n",
       "    </tr>\n",
       "    <tr>\n",
       "      <th>10</th>\n",
       "      <td>p11</td>\n",
       "      <td>0.861671</td>\n",
       "      <td>0.812139</td>\n",
       "      <td>0.853026</td>\n",
       "      <td>0.818333</td>\n",
       "      <td>0.860029</td>\n",
       "      <td>0.813314</td>\n",
       "      <td>0.851371</td>\n",
       "      <td>0.818333</td>\n",
       "    </tr>\n",
       "    <tr>\n",
       "      <th>11</th>\n",
       "      <td>p13</td>\n",
       "      <td>0.728171</td>\n",
       "      <td>0.634711</td>\n",
       "      <td>0.672158</td>\n",
       "      <td>0.751926</td>\n",
       "      <td>0.885106</td>\n",
       "      <td>0.836415</td>\n",
       "      <td>0.868085</td>\n",
       "      <td>0.833672</td>\n",
       "    </tr>\n",
       "    <tr>\n",
       "      <th>12</th>\n",
       "      <td>p14</td>\n",
       "      <td>0.874222</td>\n",
       "      <td>0.831461</td>\n",
       "      <td>0.859278</td>\n",
       "      <td>0.889255</td>\n",
       "      <td>0.900126</td>\n",
       "      <td>0.866920</td>\n",
       "      <td>0.890013</td>\n",
       "      <td>0.888360</td>\n",
       "    </tr>\n",
       "    <tr>\n",
       "      <th>13</th>\n",
       "      <td>p15</td>\n",
       "      <td>0.851459</td>\n",
       "      <td>0.800532</td>\n",
       "      <td>0.832891</td>\n",
       "      <td>0.858175</td>\n",
       "      <td>0.897172</td>\n",
       "      <td>0.853093</td>\n",
       "      <td>0.876607</td>\n",
       "      <td>0.831987</td>\n",
       "    </tr>\n",
       "    <tr>\n",
       "      <th>14</th>\n",
       "      <td>p16</td>\n",
       "      <td>0.554667</td>\n",
       "      <td>0.403743</td>\n",
       "      <td>0.464000</td>\n",
       "      <td>0.779272</td>\n",
       "      <td>0.549598</td>\n",
       "      <td>0.405914</td>\n",
       "      <td>0.461126</td>\n",
       "      <td>0.755934</td>\n",
       "    </tr>\n",
       "  </tbody>\n",
       "</table>\n",
       "</div>"
      ],
      "text/plain": [
       "   Video     Gr R1     Gr R2     Gr RL   Gr SeSi     Be R1     Be R2  \\\n",
       "0     p1  0.870515  0.798122  0.833073  0.952219  0.916905  0.885057   \n",
       "1     p2  0.900421  0.855134  0.892006  0.924655  0.916905  0.879310   \n",
       "2     p3  0.843931  0.794203  0.841040  0.809241  0.843931  0.791304   \n",
       "3     p4  0.815267  0.725881  0.787786  0.809241  0.809668  0.715152   \n",
       "4     p5  0.719562  0.650206  0.651163  0.815734  0.911932  0.871795   \n",
       "5     p6  0.790932  0.722222  0.773300  0.836771  0.801027  0.738739   \n",
       "6     p7  0.842434  0.754304  0.808112  0.914826  0.841941  0.753532   \n",
       "7     p8  0.788148  0.704309  0.755556  0.873048  0.801187  0.705357   \n",
       "8     p9  0.957516  0.937705  0.954248  0.964256  0.920684  0.892356   \n",
       "9    p10  0.939617  0.918759  0.936672  0.840587  0.961538  0.949555   \n",
       "10   p11  0.861671  0.812139  0.853026  0.818333  0.860029  0.813314   \n",
       "11   p13  0.728171  0.634711  0.672158  0.751926  0.885106  0.836415   \n",
       "12   p14  0.874222  0.831461  0.859278  0.889255  0.900126  0.866920   \n",
       "13   p15  0.851459  0.800532  0.832891  0.858175  0.897172  0.853093   \n",
       "14   p16  0.554667  0.403743  0.464000  0.779272  0.549598  0.405914   \n",
       "\n",
       "       Be RL   Be SeSi  \n",
       "0   0.916905  0.987767  \n",
       "1   0.911175  0.979657  \n",
       "2   0.838150  0.809241  \n",
       "3   0.779456  0.809241  \n",
       "4   0.900568  0.977397  \n",
       "5   0.788190  0.801240  \n",
       "6   0.807512  0.917525  \n",
       "7   0.762611  0.880682  \n",
       "8   0.917574  0.884399  \n",
       "9   0.961538  0.859704  \n",
       "10  0.851371  0.818333  \n",
       "11  0.868085  0.833672  \n",
       "12  0.890013  0.888360  \n",
       "13  0.876607  0.831987  \n",
       "14  0.461126  0.755934  "
      ]
     },
     "execution_count": 88,
     "metadata": {},
     "output_type": "execute_result"
    }
   ],
   "source": [
    "df_results"
   ]
  },
  {
   "cell_type": "code",
   "execution_count": 96,
   "metadata": {},
   "outputs": [],
   "source": [
    "import numpy as np"
   ]
  },
  {
   "cell_type": "code",
   "execution_count": 89,
   "metadata": {},
   "outputs": [],
   "source": [
    "df = pd.read_excel(os.path.join(path,'Code', 'Video_Analysis', 'metrics.xlsx'))"
   ]
  },
  {
   "cell_type": "code",
   "execution_count": 90,
   "metadata": {},
   "outputs": [],
   "source": [
    "greedy = df[['Gr R1', 'Gr R2', 'Gr RL', 'Gr SeSi']]\n",
    "beam = df[['Be R1', 'Be R2', 'Be RL', 'Be SeSi']]\n",
    "labels = ['ROGUE-1', 'ROGUE-2', 'ROGUE-L', 'Semantic Similarity']"
   ]
  },
  {
   "cell_type": "code",
   "execution_count": 100,
   "metadata": {},
   "outputs": [
    {
     "data": {
      "image/png": "[encoded data removed]",
      "text/plain": [
       "<Figure size 1600x900 with 1 Axes>"
      ]
     },
     "metadata": {},
     "output_type": "display_data"
    }
   ],
   "source": [
    "fig = plt.figure(figsize=(16, 9))\n",
    "\n",
    "bplot = plt.boxplot(greedy, vert = True, whis = (0,100), labels = labels, patch_artist=False, showmeans=True, meanline=True)\n",
    "\n",
    "for line in bplot['medians']:\n",
    "    # get position data for median line\n",
    "    x, y = line.get_xydata()[1] # top of median line\n",
    "    # overlay median value\n",
    "    plt.annotate('%.4f' % y,(x-0.61, y),\n",
    "                 verticalalignment='center')\n",
    "\n",
    "for line in bplot['means']:\n",
    "    x, y = line.get_xydata()[1] # bottom of left line\n",
    "    plt.annotate('%.4f' % y,(x+0.01, y),\n",
    "         verticalalignment='center')\n",
    "    \n",
    "plt.ylim(0, 1)\n",
    "plt.yticks(np.arange(0,1.1,0.1))\n",
    "plt.legend([bplot['medians'][0], bplot['means'][0]], ['median', 'mean'], loc = 4)\n",
    "plt.show()"
   ]
  },
  {
   "cell_type": "code",
   "execution_count": 101,
   "metadata": {},
   "outputs": [
    {
     "data": {
      "image/png": "[encoded data removed]",
      "text/plain": [
       "<Figure size 1600x900 with 1 Axes>"
      ]
     },
     "metadata": {},
     "output_type": "display_data"
    }
   ],
   "source": [
    "fig = plt.figure(figsize=(16, 9))\n",
    "\n",
    "bplot = plt.boxplot(beam, vert = True, whis = (0,100), labels = labels, patch_artist=False, showmeans=True, meanline=True)\n",
    "\n",
    "for line in bplot['medians']:\n",
    "    # get position data for median line\n",
    "    x, y = line.get_xydata()[1] # top of median line\n",
    "    # overlay median value\n",
    "    plt.annotate('%.4f' % y,(x-0.6, y),\n",
    "                 verticalalignment='center')\n",
    "\n",
    "for line in bplot['means']:\n",
    "    x, y = line.get_xydata()[1] # bottom of left line\n",
    "    plt.annotate('%.4f' % y,(x, y),\n",
    "         verticalalignment='center')\n",
    "plt.ylim(0, 1)\n",
    "plt.yticks(np.arange(0,1.1,0.1))   \n",
    "plt.legend([bplot['medians'][0], bplot['means'][0]], ['median', 'mean'], loc = 4)\n",
    "\n",
    "plt.show()"
   ]
  }
 ],
 "metadata": {
  "kernelspec": {
   "display_name": "Athroskopie",
   "language": "python",
   "name": "python3"
  },
  "language_info": {
   "codemirror_mode": {
    "name": "ipython",
    "version": 3
   },
   "file_extension": ".py",
   "mimetype": "text/x-python",
   "name": "python",
   "nbconvert_exporter": "python",
   "pygments_lexer": "ipython3",
   "version": "3.10.13"
  }
 },
 "nbformat": 4,
 "nbformat_minor": 2
}
