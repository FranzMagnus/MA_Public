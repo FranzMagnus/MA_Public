{
 "cells": [
  {
   "cell_type": "code",
   "execution_count": 1,
   "metadata": {},
   "outputs": [],
   "source": [
    "import cv2 \n",
    "import os "
   ]
  },
  {
   "cell_type": "code",
   "execution_count": null,
   "metadata": {},
   "outputs": [],
   "source": [
    "# Scrape all folders with video in them\n",
    "cwd = os.getcwd()\n",
    "data_path = os.path.dirname(os.path.dirname(cwd)) + \"\\\\Data\\\\data_sorted\\\\data\"\n",
    "\n",
    "for file in os.listdir(data_path):\n",
    "    video_name = str.removesuffix(file, \".mp4\")\n",
    "    print(os.path.join(data_path,video_name))"
   ]
  },
  {
   "cell_type": "code",
   "execution_count": null,
   "metadata": {},
   "outputs": [],
   "source": [
    "# Turn videos into frames and save them into folders, for each video.\n",
    "\n",
    "cwd = os.getcwd()\n",
    "data_path = os.path.dirname(os.path.dirname(cwd)) + \"\\\\Data\\\\data_sorted\\\\data\"\n",
    "frames_path = os.path.dirname(os.path.dirname(cwd)) + \"\\\\Data\\\\data_sorted\\\\frames\"\n",
    "os.mkdir(frames_path)\n",
    "\n",
    "for file in os.listdir(data_path):\n",
    "\n",
    "\tcam = cv2.VideoCapture(os.path.join(data_path,file)) \n",
    "\tvideo_name = str.removesuffix(file, \".mp4\")\n",
    "\n",
    "\ttry: \n",
    "\t\t\n",
    "\t\tif not os.path.exists(os.path.join(frames_path,video_name)): \n",
    "\t\t\tos.mkdir(os.path.join(frames_path,video_name)) \n",
    "\n",
    "\t# if not created then raise error \n",
    "\texcept OSError: \n",
    "\t\tprint ('Error: Creating directory of data') \n",
    "\n",
    "\t# frame \n",
    "\tcurrentframe = 0\n",
    "\n",
    "\twhile(True): \n",
    "\t\t\n",
    "\t\t# reading from frame \n",
    "\t\tret,frame = cam.read() \n",
    "\n",
    "\t\tif ret: \n",
    "\t\t\t# if video is still left continue creating images \n",
    "\t\t\tname = os.path.join(frames_path,video_name) + '\\\\' + str(currentframe).zfill(6) + '.PNG'\n",
    "\t\t\tprint ('Creating...' + name) \n",
    "\n",
    "\t\t\t# writing the extracted images \n",
    "\t\t\tcv2.imwrite(name, frame) \n",
    "\n",
    "\t\t\t# increasing counter so that it will \n",
    "\t\t\t# show how many frames are created \n",
    "\t\t\tcurrentframe += 1\n",
    "\t\telse: \n",
    "\t\t\tbreak\n",
    "\n",
    "\t# Release all space and windows once done \n",
    "\tcam.release() \n"
   ]
  },
  {
   "cell_type": "code",
   "execution_count": null,
   "metadata": {},
   "outputs": [],
   "source": [
    "frames_path = os.path.dirname(os.path.dirname(cwd)) + \"\\\\Data\\\\data_sorted\\\\frames\"\n",
    "\n",
    "for dir in os.listdir(frames_path):\n",
    "\n",
    "    dir_path = os.path.join(frames_path,dir)\n",
    "    print(dir_path)\n",
    "\n",
    "    for file in os.listdir(dir_path):\n",
    "        name = \"frame_\"+str(file)\n",
    "        os.rename(os.path.join(dir_path,file), os.path.join(dir_path,name))"
   ]
  },
  {
   "cell_type": "code",
   "execution_count": 1,
   "metadata": {},
   "outputs": [],
   "source": [
    "from pycocotools.coco import COCO\n",
    "import os \n",
    "import pandas as pd"
   ]
  },
  {
   "cell_type": "code",
   "execution_count": 2,
   "metadata": {},
   "outputs": [],
   "source": [
    "path_base = os.path.join(os.path.dirname(os.path.dirname(os.getcwd())),'Data', 'data_sorted')\n",
    "\n",
    "coco_annotations_file_root = os.path.join(path_base,'labels', 'COCO')\n",
    "coco_images_dir_root = os.path.join(path_base, 'frames')"
   ]
  },
  {
   "cell_type": "code",
   "execution_count": null,
   "metadata": {},
   "outputs": [],
   "source": [
    "dict_list = []\n",
    "\n",
    "for j in os.listdir(coco_images_dir_root):\n",
    "    \n",
    "    coco_annotations_file = os.path.join(coco_annotations_file_root, j+'.json')\n",
    "\n",
    "    coco = COCO(coco_annotations_file)\n",
    "    \n",
    "    count_dict = {}\n",
    "\n",
    "    classes = []\n",
    "    for x in coco.cats:\n",
    "        classes.append(coco.cats[x]['name'])\n",
    "    \n",
    "    for x in classes:\n",
    "        catIds = coco.getCatIds(catNms=x) \n",
    "        imgIds = coco.getImgIds(catIds=catIds)\n",
    "        count_dict[x] =  len(imgIds)\n",
    "\n",
    "    dict_list.append(count_dict)"
   ]
  },
  {
   "cell_type": "code",
   "execution_count": 4,
   "metadata": {},
   "outputs": [],
   "source": [
    "def merge_keys(ds):\n",
    "    keys = set.union(*map(set, ds))\n",
    "    return keys"
   ]
  },
  {
   "cell_type": "code",
   "execution_count": 5,
   "metadata": {},
   "outputs": [],
   "source": [
    "keys = merge_keys(dict_list)"
   ]
  },
  {
   "cell_type": "code",
   "execution_count": null,
   "metadata": {},
   "outputs": [],
   "source": [
    "keys"
   ]
  },
  {
   "cell_type": "code",
   "execution_count": 7,
   "metadata": {},
   "outputs": [],
   "source": [
    "sum_dict = dict.fromkeys(keys, 0)"
   ]
  },
  {
   "cell_type": "code",
   "execution_count": 8,
   "metadata": {},
   "outputs": [],
   "source": [
    "df = pd.DataFrame(columns=list(keys))\n",
    "\n",
    "for x in dict_list:\n",
    "    df.loc[len(df)] = x\n",
    "    for y in x:\n",
    "        sum_dict[y] += x[y]\n",
    "df.loc[len(df)] = sum_dict"
   ]
  },
  {
   "cell_type": "code",
   "execution_count": 11,
   "metadata": {},
   "outputs": [],
   "source": [
    "df.to_excel(os.path.dirname(os.path.dirname(cwd)) + \"\\\\Data\\\\data_sorted\\\\labels\\\\count.xlsx\")"
   ]
  },
  {
   "cell_type": "code",
   "execution_count": null,
   "metadata": {},
   "outputs": [],
   "source": [
    "sum(sum_dict.values())"
   ]
  }
 ],
 "metadata": {
  "kernelspec": {
   "display_name": "Athroskopie",
   "language": "python",
   "name": "python3"
  },
  "language_info": {
   "codemirror_mode": {
    "name": "ipython",
    "version": 3
   },
   "file_extension": ".py",
   "mimetype": "text/x-python",
   "name": "python",
   "nbconvert_exporter": "python",
   "pygments_lexer": "ipython3",
   "version": "3.10.13"
  }
 },
 "nbformat": 4,
 "nbformat_minor": 2
}
