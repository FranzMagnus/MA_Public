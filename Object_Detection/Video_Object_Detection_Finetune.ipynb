{
 "cells": [
  {
   "cell_type": "code",
   "execution_count": 1,
   "metadata": {},
   "outputs": [],
   "source": [
    "# https://pytorch.org/tutorials/intermediate/torchvision_tutorial.html?source=post_page-----319e7090da5--------------------------------\n",
    "#https://stackoverflow.com/questions/50805634/how-to-create-mask-images-from-coco-dataset"
   ]
  },
  {
   "cell_type": "code",
   "execution_count": 2,
   "metadata": {},
   "outputs": [],
   "source": [
    "import os\n",
    "os.environ['CUDA_LAUNCH_BLOCKING'] = \"1\"\n",
    "import random\n",
    "\n",
    "import torch\n",
    "import torch.utils.data as data\n",
    "\n",
    "import numpy as np\n",
    "\n",
    "from pycocotools.coco import COCO\n",
    "\n",
    "import torchvision\n",
    "from torchvision.io import read_image\n",
    "from torchvision import tv_tensors\n",
    "from torchvision.transforms import v2 as T\n",
    "from torchvision.models.detection.faster_rcnn import FastRCNNPredictor\n",
    "from torchvision.utils import draw_bounding_boxes\n",
    "\n",
    "from helpers.engine import train_one_epoch, evaluate, eval_forward\n",
    "\n",
    "import matplotlib.pyplot as plt\n",
    "\n",
    "import tqdm\n",
    "\n",
    "from pickle import load, dump\n",
    "\n",
    "from bidict import bidict"
   ]
  },
  {
   "cell_type": "code",
   "execution_count": 3,
   "metadata": {},
   "outputs": [],
   "source": [
    "path_base = os.path.join(os.path.dirname(os.path.dirname(os.getcwd())),'Data', 'data_sorted')\n",
    "coco_annotations_file_root = os.path.join(path_base,'labels', 'COCO')\n",
    "coco_images_dir_root = os.path.join(path_base, 'frames')"
   ]
  },
  {
   "cell_type": "code",
   "execution_count": null,
   "metadata": {},
   "outputs": [],
   "source": [
    "def merge_keys(ds):\n",
    "    keys = set.union(*map(set, ds))\n",
    "    return keys\n",
    "\n",
    "dict_list = []\n",
    "\n",
    "for j in os.listdir(coco_images_dir_root):\n",
    "    coco_annotations_file = os.path.join(coco_annotations_file_root, j+'.json')\n",
    "    coco = COCO(coco_annotations_file)\n",
    "    count_dict = {}\n",
    "    classes = []\n",
    "    for x in coco.cats:\n",
    "        classes.append(coco.cats[x]['name'])\n",
    "    \n",
    "    for x in classes:\n",
    "        catIds = coco.getCatIds(catNms=x) \n",
    "        if 66 in catIds:\n",
    "            print('stop')\n",
    "        for y in catIds:\n",
    "            imgIds = coco.getImgIds(catIds=y)\n",
    "            if len(imgIds) > 0:\n",
    "                count_dict[x] =  len(imgIds)\n",
    "\n",
    "    dict_list.append(count_dict)\n",
    "\n",
    "keys = merge_keys(dict_list)\n",
    "name_dict = dict.fromkeys(keys, 0)\n",
    "name_dict.update((k, i+1) for i, k in enumerate(name_dict))\n",
    "name_dict['No Annotation'] = len(name_dict)+1\n",
    "name_bidict = bidict(name_dict)"
   ]
  },
  {
   "cell_type": "code",
   "execution_count": null,
   "metadata": {},
   "outputs": [],
   "source": [
    "name_bidict"
   ]
  },
  {
   "cell_type": "code",
   "execution_count": 10,
   "metadata": {},
   "outputs": [],
   "source": [
    "class AnnotationDataset(torch.utils.data.Dataset):\n",
    "\n",
    "    def __init__(self, root, annotation):\n",
    "        self.root = root\n",
    "        self.coco = COCO(annotation)\n",
    "        self.ids = list(sorted(self.coco.imgs.keys()))\n",
    "\n",
    "    def __getitem__(self, index):\n",
    "        # Own coco file\n",
    "        coco = self.coco\n",
    "        # Image ID\n",
    "        img_id = self.ids[index]\n",
    "        # List: get annotation id from coco\n",
    "        ann_ids = coco.getAnnIds(imgIds=img_id)\n",
    "        # Dictionary: target coco_annotation file for an image\n",
    "        coco_annotation = coco.loadAnns(ann_ids)\n",
    "        \n",
    "        # number of objects in the image\n",
    "        num_objs = len(coco_annotation)\n",
    "\n",
    "        # Bounding boxes for objects\n",
    "        # In coco format, bbox = [xmin, ymin, width, height]\n",
    "        # In pytorch, the input should be [xmin, ymin, xmax, ymax]\n",
    "        boxes = []\n",
    "        for i in range(num_objs):\n",
    "            xmin = coco_annotation[i]['bbox'][0]\n",
    "            ymin = coco_annotation[i]['bbox'][1]\n",
    "            xmax = xmin + coco_annotation[i]['bbox'][2]\n",
    "            ymax = ymin + coco_annotation[i]['bbox'][3]\n",
    "            boxes.append([xmin, ymin, xmax, ymax])\n",
    "        \n",
    "        #Add emptiness to not annotated frames\n",
    "        if not boxes:\n",
    "            boxes.append([0,0,1280,720])\n",
    "\n",
    "\n",
    "        boxes = torch.as_tensor(boxes, dtype=torch.float32)\n",
    "        \n",
    "        labels = []\n",
    "        for i in range(num_objs):\n",
    "            labels.append(coco_annotation[i]['category_id'])\n",
    "        \n",
    "        if not labels:\n",
    "            labels.append(110)\n",
    "\n",
    "        new_labels = []\n",
    "        for x in labels:\n",
    "            cat = coco.loadCats(x)\n",
    "            name = cat[0]['name']\n",
    "            new_labels.append(name_bidict.get(name))\n",
    "        \n",
    "        \n",
    "        labels = torch.as_tensor(new_labels, dtype=torch.int64)\n",
    "\n",
    "        # img_id\n",
    "        img_id = int(img_id)\n",
    "\n",
    "        # Size of bbox (Rectangular)\n",
    "        areas = []\n",
    "        for i in range(num_objs):\n",
    "            areas.append(coco_annotation[i]['area'])\n",
    "            \n",
    "        \n",
    "        if not areas:\n",
    "            areas.append((boxes[:, 3] - boxes[:, 1]) * (boxes[:, 2] - boxes[:, 0]))\n",
    "        \n",
    "        #areas = torch.as_tensor(areas, dtype=torch.float32)\n",
    "        areas = (boxes[:, 3] - boxes[:, 1]) * (boxes[:, 2] - boxes[:, 0])\n",
    "\n",
    "        # Iscrowd\n",
    "        iscrowd = torch.zeros((num_objs,), dtype=torch.int64)\n",
    "\n",
    "        if iscrowd.numel() == 0:\n",
    "            iscrowd = torch.zeros((1,), dtype=torch.int64)\n",
    "\n",
    "        # Annotation is in dictionary format\n",
    "        my_annotation = {}\n",
    "        my_annotation[\"coco\"] = self.coco\n",
    "        my_annotation[\"root\"] = self.root\n",
    "        my_annotation[\"boxes\"] = tv_tensors.BoundingBoxes(boxes, format=\"XYXY\", canvas_size=[720, 1280])\n",
    "        my_annotation[\"labels\"] = labels\n",
    "        my_annotation[\"image_id\"] = img_id\n",
    "        my_annotation[\"area\"] = areas\n",
    "        my_annotation[\"iscrowd\"] = iscrowd\n",
    "\n",
    "        return my_annotation\n",
    "    \n",
    "    def __len__(self):\n",
    "        return len(self.ids)"
   ]
  },
  {
   "cell_type": "code",
   "execution_count": 7,
   "metadata": {},
   "outputs": [],
   "source": [
    "class TrainingsDataset(torch.utils.data.Dataset):\n",
    "    def __init__(self, labels, transforms=None):\n",
    "        self.labels = labels\n",
    "        self.transforms = transforms\n",
    "    \n",
    "\n",
    "    def __getitem__(self, index):\n",
    "        coco = self.labels[index][\"coco\"]\n",
    "        root = self.labels[index][\"root\"]\n",
    "        img_id = self.labels[index][\"image_id\"]\n",
    "        path = coco.loadImgs(img_id)[0]['file_name']\n",
    "        \n",
    "        img = read_image(os.path.join(root, path))\n",
    "        img = tv_tensors.Image(img)\n",
    "        \n",
    "        my_annotation = {}\n",
    "        my_annotation[\"boxes\"] = self.labels[index][\"boxes\"]\n",
    "        my_annotation[\"labels\"] = self.labels[index][\"labels\"]\n",
    "        my_annotation[\"image_id\"] = img_id\n",
    "        my_annotation[\"area\"] = self.labels[index][\"area\"]\n",
    "        my_annotation[\"iscrowd\"] = self.labels[index][\"iscrowd\"]\n",
    "       \n",
    "        if self.transforms is not None:\n",
    "            img, my_annotation = self.transforms(img, my_annotation)\n",
    "\n",
    "        return img, my_annotation\n",
    "\n",
    "    def __len__(self):\n",
    "        return len(self.labels)"
   ]
  },
  {
   "cell_type": "code",
   "execution_count": 27,
   "metadata": {},
   "outputs": [],
   "source": [
    "def get_transform(train, h_flip, v_flip):\n",
    "    transforms = []\n",
    "    if train:\n",
    "        transforms.append(T.RandomHorizontalFlip(h_flip))\n",
    "        transforms.append(T.RandomVerticalFlip(v_flip))\n",
    "    transforms.append(T.ToDtype(torch.float, scale=True))\n",
    "    transforms.append(T.ToPureTensor())\n",
    "    return T.Compose(transforms)"
   ]
  },
  {
   "cell_type": "code",
   "execution_count": 8,
   "metadata": {},
   "outputs": [],
   "source": [
    "def collate_fn(batch):\n",
    "    return tuple(zip(*batch))\n"
   ]
  },
  {
   "cell_type": "code",
   "execution_count": null,
   "metadata": {},
   "outputs": [],
   "source": [
    "ds_list = []\n",
    "for j in os.listdir(coco_images_dir_root):\n",
    "    if 'p1_v4' in j:\n",
    "        print('skipped')\n",
    "    else:\n",
    "        coco_annotations_file = os.path.join(coco_annotations_file_root, j+'.json')\n",
    "        coco_images_dir = os.path.join(coco_images_dir_root, j)\n",
    "        ds_list.append(AnnotationDataset(root=coco_images_dir, annotation=coco_annotations_file))\n",
    "\n",
    "concat_ds_list = data.ConcatDataset(ds_list)     "
   ]
  },
  {
   "cell_type": "code",
   "execution_count": null,
   "metadata": {},
   "outputs": [],
   "source": [
    "len(concat_ds_list)"
   ]
  },
  {
   "cell_type": "code",
   "execution_count": 71,
   "metadata": {},
   "outputs": [],
   "source": [
    "with open(os.path.dirname(os.getcwd()) + \"\\\\Object_Detection\\\\dataloaders\\\\labels.pkl\", \"rb\") as input_file:\n",
    "   annotated_labels = load(input_file)"
   ]
  },
  {
   "cell_type": "code",
   "execution_count": 72,
   "metadata": {},
   "outputs": [],
   "source": [
    "with open(os.path.dirname(os.getcwd()) + \"\\\\Object_Detection\\\\dataloaders\\\\names_to_annotation.pkl\", \"rb\") as input_file:\n",
    "   names_to_annotation = load(input_file)"
   ]
  },
  {
   "cell_type": "code",
   "execution_count": 18,
   "metadata": {},
   "outputs": [],
   "source": [
    "counter = {}\n",
    "for x in annotated_labels:\n",
    "    labels = x['labels']\n",
    "    for l in labels.numpy():\n",
    "        name = name_bidict.inv.get(l)\n",
    "        if name in counter.keys():\n",
    "            counter[name] = counter[name]+1\n",
    "        else:\n",
    "            counter[name] = 1"
   ]
  },
  {
   "cell_type": "code",
   "execution_count": 20,
   "metadata": {},
   "outputs": [
    {
     "data": {
      "text/plain": [
       "32"
      ]
     },
     "execution_count": 20,
     "metadata": {},
     "output_type": "execute_result"
    }
   ],
   "source": [
    "len(counter)"
   ]
  },
  {
   "cell_type": "code",
   "execution_count": 25,
   "metadata": {},
   "outputs": [
    {
     "data": {
      "image/png": "[encoded data removed]",
      "text/plain": [
       "<Figure size 640x480 with 1 Axes>"
      ]
     },
     "metadata": {},
     "output_type": "display_data"
    },
    {
     "data": {
      "text/plain": [
       "<Figure size 108000x192000 with 0 Axes>"
      ]
     },
     "metadata": {},
     "output_type": "display_data"
    }
   ],
   "source": [
    "import matplotlib.pyplot as plt\n",
    "\n",
    "labels = list(counter.keys())\n",
    "values = list(counter.values())\n",
    "\n",
    "\n",
    "\n",
    "plt.barh(labels, values, height=0.5, align='center')\n",
    "plt.title('Object distribution in the annotated video dataset')\n",
    "plt.xlabel('Occurences')\n",
    "plt.ylabel('Object')\n",
    "\n",
    "for i, value in enumerate(values):\n",
    "    plt.text(value + 200, i-0.3, str(value), ha='center')\n",
    "\n",
    "plt.xlim(0,5250)\n",
    "plt.figure(figsize=(1080, 1920))\n",
    "plt.show()"
   ]
  },
  {
   "cell_type": "code",
   "execution_count": null,
   "metadata": {},
   "outputs": [],
   "source": [
    "names_to_annotation"
   ]
  },
  {
   "cell_type": "code",
   "execution_count": 25,
   "metadata": {},
   "outputs": [],
   "source": [
    "with open(os.path.dirname(os.getcwd()) + \"\\\\Object_Detection\\\\dataloaders\\\\labels_counter.pkl\", 'wb') as file:\n",
    "        dump(counter, file)"
   ]
  },
  {
   "cell_type": "code",
   "execution_count": 13,
   "metadata": {},
   "outputs": [],
   "source": [
    "def evaluate_loss(model, data_loader, device):\n",
    "    val_loss = 0\n",
    "    with torch.no_grad():\n",
    "      for images, targets in data_loader:\n",
    "          images = list(image.to(device) for image in images)\n",
    "          targets = [{k: v.to(device) if isinstance(v, torch.Tensor) else v for k, v in t.items()} for t in targets]\n",
    "          loss_dict, detections = eval_forward(model, images, targets)\n",
    "         \n",
    "          losses = sum(loss for loss in loss_dict.values())\n",
    "\n",
    "          val_loss += losses\n",
    "          \n",
    "    validation_loss = val_loss/ len(data_loader)    \n",
    "    return validation_loss"
   ]
  },
  {
   "cell_type": "code",
   "execution_count": null,
   "metadata": {},
   "outputs": [
    {
     "name": "stderr",
     "output_type": "stream",
     "text": [
      "  0%|          | 0/449658 [00:00<?, ?it/s]"
     ]
    },
    {
     "name": "stderr",
     "output_type": "stream",
     "text": [
      "100%|██████████| 449658/449658 [00:42<00:00, 10650.42it/s]\n"
     ]
    }
   ],
   "source": [
    "annotated_labels = []\n",
    "\n",
    "for x in tqdm.tqdm(concat_ds_list):\n",
    "        dicty = x\n",
    "        if len(dicty['labels']) > 1:\n",
    "                annotated_labels.append(dicty)\n",
    "        elif len(dicty['labels']) == 1:\n",
    "            y = dicty['labels'].item()\n",
    "            if  name_bidict.inv.get(y) != \"No Annotation\":\n",
    "                annotated_labels.append(dicty)"
   ]
  },
  {
   "cell_type": "code",
   "execution_count": 21,
   "metadata": {},
   "outputs": [],
   "source": [
    "with open(os.path.dirname(os.getcwd()) + \"\\\\Object_Detection\\\\dataloaders\\\\labels.pkl\", 'wb') as file:\n",
    "        dump(annotated_labels, file)"
   ]
  },
  {
   "cell_type": "code",
   "execution_count": 26,
   "metadata": {},
   "outputs": [],
   "source": [
    "with open(os.path.dirname(os.getcwd()) + \"\\\\Object_Detection\\\\dataloaders\\\\labels_no_empty.pkl\", \"rb\") as input_file:\n",
    "   annotated_labels = load(input_file)"
   ]
  },
  {
   "cell_type": "code",
   "execution_count": null,
   "metadata": {},
   "outputs": [],
   "source": [
    "len(annotated_labels)"
   ]
  },
  {
   "cell_type": "code",
   "execution_count": 28,
   "metadata": {},
   "outputs": [],
   "source": [
    "annotated_ds = []\n",
    "\n",
    "annotated_ds.append(TrainingsDataset(annotated_labels, transforms=get_transform(train=True, h_flip=0, v_flip=0)))\n",
    "annotated_ds.append(TrainingsDataset(annotated_labels, transforms=get_transform(train=True, h_flip=1, v_flip=0)))\n",
    "annotated_ds.append(TrainingsDataset(annotated_labels, transforms=get_transform(train=True, h_flip=0, v_flip=1)))\n",
    "annotated_ds.append(TrainingsDataset(annotated_labels, transforms=get_transform(train=True, h_flip=1, v_flip=1)))"
   ]
  },
  {
   "cell_type": "code",
   "execution_count": null,
   "metadata": {},
   "outputs": [],
   "source": [
    "annotated_ds[0].__getitem__(1)"
   ]
  },
  {
   "cell_type": "code",
   "execution_count": 29,
   "metadata": {},
   "outputs": [],
   "source": [
    "concat_ds = data.ConcatDataset(annotated_ds)\n",
    "\n",
    "generator1 = torch.Generator().manual_seed(99)\n",
    "annotated_ds_train, annotated_ds_test = data.random_split(concat_ds, [0.8, 0.2], generator1)"
   ]
  },
  {
   "cell_type": "code",
   "execution_count": null,
   "metadata": {},
   "outputs": [],
   "source": [
    "len(concat_ds)"
   ]
  },
  {
   "cell_type": "code",
   "execution_count": null,
   "metadata": {},
   "outputs": [],
   "source": [
    "annotated_ds_train[2062]"
   ]
  },
  {
   "cell_type": "code",
   "execution_count": 31,
   "metadata": {},
   "outputs": [],
   "source": [
    "train_batch_size = 4\n",
    "\n",
    "annotated_data_loader = data.DataLoader(annotated_ds_train,\n",
    "                            batch_size=train_batch_size,\n",
    "                            shuffle=True,\n",
    "                            num_workers=0,\n",
    "                            collate_fn= collate_fn)\n",
    "\n",
    "annotated_data_loader_test = data.DataLoader(annotated_ds_test,\n",
    "                                batch_size=train_batch_size,\n",
    "                                shuffle=True,\n",
    "                                num_workers=0,\n",
    "                                collate_fn= collate_fn)"
   ]
  },
  {
   "cell_type": "code",
   "execution_count": 32,
   "metadata": {},
   "outputs": [],
   "source": [
    "device = torch.device('cuda') if torch.cuda.is_available() else torch.device('cpu')"
   ]
  },
  {
   "cell_type": "code",
   "execution_count": null,
   "metadata": {},
   "outputs": [],
   "source": [
    "device"
   ]
  },
  {
   "cell_type": "code",
   "execution_count": 33,
   "metadata": {},
   "outputs": [],
   "source": [
    "def get_model_instance_segmentation(num_classes):\n",
    "    \n",
    "    model = torchvision.models.detection.fasterrcnn_resnet50_fpn(weights=\"DEFAULT\")\n",
    "\n",
    "    \n",
    "    in_features = model.roi_heads.box_predictor.cls_score.in_features\n",
    "    \n",
    "    model.roi_heads.box_predictor = FastRCNNPredictor(in_features, num_classes)\n",
    "    \n",
    "    return model"
   ]
  },
  {
   "cell_type": "code",
   "execution_count": null,
   "metadata": {},
   "outputs": [],
   "source": [
    "torch.cuda.empty_cache()"
   ]
  },
  {
   "cell_type": "code",
   "execution_count": null,
   "metadata": {},
   "outputs": [],
   "source": [
    "#48 annotated classes + empty class +Backround\n",
    "num_classes = len(name_dict)+1\n",
    "\n",
    "model = get_model_instance_segmentation(num_classes)\n",
    "\n",
    "model.to(device)\n",
    "\n",
    "params = [p for p in model.parameters() if p.requires_grad]\n",
    "optimizer = torch.optim.Adam(\n",
    "    params,\n",
    "    lr=0.00005,\n",
    "    # momentum=0.9,\n",
    "    # weight_decay=0.0005\n",
    ")\n",
    "\n",
    "lr_scheduler = torch.optim.lr_scheduler.StepLR(\n",
    "    optimizer,\n",
    "    step_size=7,\n",
    "    gamma=0.5\n",
    ")\n",
    "\n",
    "num_epochs = 50\n",
    "\n",
    "\n",
    "logger_dict = {}\n",
    "evaluator_dict = {}\n",
    "val_loss_dict = {}\n",
    "\n",
    "for epoch in range(num_epochs):\n",
    "    logger_dict[epoch] = train_one_epoch(model, optimizer, annotated_data_loader, device, epoch, print_freq=100)\n",
    "    lr_scheduler.step()\n",
    "    validation_loss  = evaluate_loss(model, annotated_data_loader_test, device=device)\n",
    "    val_loss_dict[epoch] = validation_loss\n",
    "    print(\"Validation Loss:\", validation_loss)\n",
    "    evaluator_dict[epoch] = evaluate(model, annotated_data_loader_test, device=device)\n",
    "\n",
    "torch.save(model, os.path.dirname(os.getcwd()) + \"\\\\Object_Detection\\\\Models\\\\model_whole.pt\")\n",
    "torch.save(model.state_dict(), os.path.dirname(os.getcwd()) + \"\\\\Object_Detection\\\\Models\\\\model_states.pt\")\n",
    "\n",
    "with open(os.path.dirname(os.getcwd()) + \"\\\\Object_Detection\\\\training_output\\\\logger.pkl\", 'wb') as file:\n",
    "    dump(annotated_ds_train, file)\n",
    "\n",
    "with open(os.path.dirname(os.getcwd()) + \"\\\\Object_Detection\\\\training_output\\\\lval_loss.pkl\", 'wb') as file:\n",
    "    dump(annotated_ds_train, file)\n",
    " \n",
    "with open(os.path.dirname(os.getcwd()) + \"\\\\Object_Detection\\\\training_output\\\\evluator.pkl\", 'wb') as file:\n",
    "    dump(annotated_ds_test, file)\n",
    "\n",
    "print(\"That's it!\")"
   ]
  },
  {
   "cell_type": "code",
   "execution_count": null,
   "metadata": {},
   "outputs": [],
   "source": [
    "model = torch.load(os.path.dirname(os.getcwd()) + \"\\\\Object_Detection\\\\Models\\\\model_whole.pt\")"
   ]
  },
  {
   "cell_type": "code",
   "execution_count": null,
   "metadata": {},
   "outputs": [],
   "source": [
    "test_video = 'p14_v6'\n",
    "\n",
    "coco = COCO(os.path.join(path_base, 'labels', 'COCO', test_video+'.json'))\n",
    "ids = list(sorted(coco.imgs.keys()))\n",
    "\n",
    "img_id = random.choices(ids)\n",
    "#img_id = 3475\n",
    "path = coco.loadImgs(img_id)[0]['file_name'] \n",
    "image = read_image(os.path.join(path_base, 'frames', test_video, path))\n",
    "\n",
    "eval_transform = get_transform(train=False, h_flip=0, v_flip=0)\n",
    "\n",
    "model.eval()\n",
    "with torch.no_grad():\n",
    "    x = eval_transform(image)\n",
    "    # convert RGBA -> RGB and move to device\n",
    "    x = x[:3, ...].to(device)\n",
    "    predictions = model([x, ])\n",
    "    pred = predictions[0]\n",
    "\n",
    "\n",
    "image = (255.0 * (image - image.min()) / (image.max() - image.min())).to(torch.uint8)\n",
    "image = image[:3, ...]\n",
    "\n",
    "cats = []\n",
    "for x in pred[\"labels\"]:\n",
    "    categorie = coco.loadCats(x.item())\n",
    "    cats.append(categorie[0][\"name\"])\n",
    "\n",
    "scores = []\n",
    "for x in pred[\"scores\"]:\n",
    "    scores.append(x.item())\n",
    "\n",
    "pred_boxes = pred[\"boxes\"].long()\n",
    "\n",
    "pred_labels = []\n",
    "for x in range(len(cats)):\n",
    "    pred_labels.append(f\"{cats[x]}: {scores[x]:.3f}\")\n",
    "\n",
    "output_image = draw_bounding_boxes(image, pred_boxes, pred_labels, colors=\"red\")\n",
    "\n",
    "plt.figure(figsize=(16, 16))\n",
    "plt.imshow(output_image.permute(1, 2, 0))\n",
    "\n",
    "image = (255.0 * (image - image.min()) / (image.max() - image.min())).to(torch.uint8)\n",
    "image = image[:3, ...]\n",
    "\n",
    "cats = []\n",
    "scores = []\n",
    "pred_boxes = []\n",
    "\n",
    "for x in range(len(pred[\"boxes\"])):\n",
    "    if pred[\"scores\"][x] >= 0.5:\n",
    "        categorie = coco.loadCats(pred[\"labels\"][x].item())\n",
    "        cats.append(categorie[0][\"name\"])\n",
    "        scores.append(pred[\"scores\"][x].item())\n",
    "        pred_boxes.append(pred[\"boxes\"][x])\n",
    "\n",
    "pred_labels = []\n",
    "for x in range(len(cats)):\n",
    "    pred_labels.append(f\"{cats[x]}: {scores[x]:.3f}\")\n",
    "\n",
    "pred_boxes = torch.stack(pred_boxes)\n",
    "\n",
    "output_image = draw_bounding_boxes(image, pred_boxes, pred_labels, colors=\"red\")\n",
    "\n",
    "plt.figure(figsize=(16, 16))\n",
    "plt.imshow(output_image.permute(1, 2, 0))"
   ]
  },
  {
   "cell_type": "code",
   "execution_count": null,
   "metadata": {},
   "outputs": [],
   "source": [
    "from pickle import load\n",
    "from matplotlib.pylab import plt\n",
    "from numpy import arange\n",
    " \n",
    "# Load the training and validation loss dictionaries\n",
    "val_loss = load(open(os.path.dirname(os.getcwd()) + \"\\\\Object_Detection\\\\training_output\\\\lval_loss.pkl\", 'rb'))\n",
    " \n",
    "# Retrieve each dictionary's values\n",
    "val_values = []\n",
    "\n",
    "for x in val_loss:\n",
    "    val_values.append(val_loss[x].item())\n",
    " \n",
    "y = len(val_values)+1\n",
    "# Generate a sequence of integers to represent the epoch numbers\n",
    "epochs = range(1, y)\n",
    " \n",
    "# Plot and label the training and validation loss values\n",
    "plt.plot(epochs, val_values, label='Validation Loss')\n",
    " \n",
    "# Add in a title and axes labels\n",
    "plt.title('Training and Validation Loss')\n",
    "plt.xlabel('Epochs')\n",
    "plt.ylabel('Loss')\n",
    " \n",
    "# Set the tick locations\n",
    "plt.xticks(arange(0, y, 1))\n",
    " \n",
    "# Display the plot\n",
    "plt.legend(loc='best')\n",
    "plt.show()"
   ]
  },
  {
   "cell_type": "code",
   "execution_count": null,
   "metadata": {},
   "outputs": [],
   "source": [
    "#https://albumentations.ai/docs/getting_started/bounding_boxes_augmentation/\n",
    "#https://medium.com/@zamalbabar/supercharge-your-image-datasets-with-augmentimg-the-ultimate-image-augmentation-tool-8a08013353c0"
   ]
  },
  {
   "cell_type": "code",
   "execution_count": null,
   "metadata": {},
   "outputs": [],
   "source": [
    "print(torch.cuda.device_count())\n",
    "print(torch.cuda.current_device())\n",
    "print(torch.cuda.device(0))\n",
    "print(torch.cuda.get_device_name(0))\n",
    "print(torch.cuda.device(1))\n",
    "print(torch.cuda.get_device_name(1))"
   ]
  },
  {
   "cell_type": "code",
   "execution_count": null,
   "metadata": {},
   "outputs": [],
   "source": [
    "device = torch.device('cuda:0' if torch.cuda.is_available() else 'cpu')\n",
    "print('Using device:', device)\n",
    "print()\n",
    "\n",
    "#Additional Info when using cuda\n",
    "if device.type == 'cuda':\n",
    "    print(torch.cuda.get_device_name(0))\n",
    "    print('Memory Usage:')\n",
    "    print('Allocated:', round(torch.cuda.memory_allocated(0)/1024**3,1), 'GB')\n",
    "    print('Cached:   ', round(torch.cuda.memory_reserved(0)/1024**3,1), 'GB')"
   ]
  },
  {
   "cell_type": "code",
   "execution_count": null,
   "metadata": {},
   "outputs": [],
   "source": [
    "device = torch.device('cuda:1' if torch.cuda.is_available() else 'cpu')\n",
    "print('Using device:', device)\n",
    "print()\n",
    "\n",
    "#Additional Info when using cuda\n",
    "if device.type == 'cuda':\n",
    "    print(torch.cuda.get_device_name(1))\n",
    "    print('Memory Usage:')\n",
    "    print('Allocated:', round(torch.cuda.memory_allocated(1)/1024**3,1), 'GB')\n",
    "    print('Cached:   ', round(torch.cuda.memory_reserved(1)/1024**3,1), 'GB')"
   ]
  }
 ],
 "metadata": {
  "kernelspec": {
   "display_name": "Python 3",
   "language": "python",
   "name": "python3"
  },
  "language_info": {
   "codemirror_mode": {
    "name": "ipython",
    "version": 3
   },
   "file_extension": ".py",
   "mimetype": "text/x-python",
   "name": "python",
   "nbconvert_exporter": "python",
   "pygments_lexer": "ipython3",
   "version": "3.12.0"
  }
 },
 "nbformat": 4,
 "nbformat_minor": 2
}
