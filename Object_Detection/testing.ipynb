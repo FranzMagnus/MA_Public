{
 "cells": [
  {
   "cell_type": "code",
   "execution_count": 1,
   "metadata": {},
   "outputs": [],
   "source": [
    "import os\n",
    "\n",
    "import random\n",
    "\n",
    "import torch\n",
    "\n",
    "\n",
    "import numpy as np\n",
    "\n",
    "from pycocotools.coco import COCO\n",
    "\n",
    "import torchvision\n",
    "from torchvision.io import read_image\n",
    "\n",
    "from torchvision.transforms import v2 as T\n",
    "\n",
    "from torchvision.utils import draw_bounding_boxes\n",
    "\n",
    "\n",
    "import matplotlib.pyplot as plt\n",
    "from torchvision import tv_tensors\n",
    "from pickle import load\n",
    "from numpy import arange\n",
    "\n",
    "from pickle import load, dump, HIGHEST_PROTOCOL\n",
    "\n",
    "import torch.utils.data as data"
   ]
  },
  {
   "cell_type": "code",
   "execution_count": 2,
   "metadata": {},
   "outputs": [],
   "source": [
    "class TrainingsDataset(torch.utils.data.Dataset):\n",
    "    def __init__(self, labels, transforms=None):\n",
    "        self.labels = labels\n",
    "        self.transforms = transforms\n",
    "    \n",
    "\n",
    "    def __getitem__(self, index):\n",
    "        coco = self.labels[index][\"coco\"]\n",
    "        root = self.labels[index][\"root\"]\n",
    "        img_id = self.labels[index][\"image_id\"]\n",
    "        path = coco.loadImgs(img_id)[0]['file_name']\n",
    "        \n",
    "        img = read_image(os.path.join(root, path))\n",
    "        img = tv_tensors.Image(img)\n",
    "        \n",
    "        my_annotation = {}\n",
    "        my_annotation[\"boxes\"] = self.labels[index][\"boxes\"]\n",
    "        my_annotation[\"labels\"] = self.labels[index][\"labels\"]\n",
    "        my_annotation[\"image_id\"] = img_id\n",
    "        my_annotation[\"area\"] = self.labels[index][\"area\"]\n",
    "        my_annotation[\"iscrowd\"] = self.labels[index][\"iscrowd\"]\n",
    "       \n",
    "        if self.transforms is not None:\n",
    "            img, my_annotation = self.transforms(img, my_annotation)\n",
    "\n",
    "        return img, my_annotation, root\n",
    "\n",
    "    def __len__(self):\n",
    "        return len(self.labels)"
   ]
  },
  {
   "cell_type": "code",
   "execution_count": 3,
   "metadata": {},
   "outputs": [],
   "source": [
    "def get_transform(train, h_flip, v_flip):\n",
    "    transforms = []\n",
    "    if train:\n",
    "        transforms.append(T.RandomHorizontalFlip(h_flip))\n",
    "        transforms.append(T.RandomVerticalFlip(v_flip))\n",
    "    transforms.append(T.ToDtype(torch.float, scale=True))\n",
    "    transforms.append(T.ToPureTensor())\n",
    "    return T.Compose(transforms)"
   ]
  },
  {
   "cell_type": "code",
   "execution_count": 4,
   "metadata": {},
   "outputs": [],
   "source": [
    "path_base = os.path.join(os.path.dirname(os.path.dirname(os.getcwd())),'Data', 'data_sorted')\n",
    "device = torch.device('cuda') if torch.cuda.is_available() else torch.device('cpu')\n",
    "model = torch.load(os.path.dirname(os.getcwd()) + \"\\\\Object_Detection\\\\Models\\\\model_whole_no_empty.pt\", weights_only=False)\n",
    "model.to(device)\n",
    "with open(os.path.dirname(os.getcwd()) + \"\\\\Object_Detection\\\\dataloaders\\\\names_to_annotation_no_empty.pkl\", \"rb\") as input_file:\n",
    "   names_to_annotation = load(input_file)\n",
    "\n",
    "#model_no_empty = torch.load(os.path.dirname(os.getcwd()) + \"\\\\Object_Detection\\\\Models\\\\model_no_empty.pt\")\n",
    "#model_no_empty.to(device)"
   ]
  },
  {
   "cell_type": "code",
   "execution_count": 5,
   "metadata": {},
   "outputs": [],
   "source": [
    "with open(os.path.dirname(os.getcwd()) + \"\\\\Object_Detection\\\\dataloaders\\\\labels_no_empty.pkl\", \"rb\") as input_file:\n",
    "   annotated_labels = load(input_file)"
   ]
  },
  {
   "cell_type": "code",
   "execution_count": null,
   "metadata": {},
   "outputs": [],
   "source": [
    "len(annotated_labels)"
   ]
  },
  {
   "cell_type": "code",
   "execution_count": null,
   "metadata": {},
   "outputs": [],
   "source": [
    "annotated_labels[0]"
   ]
  },
  {
   "cell_type": "code",
   "execution_count": 7,
   "metadata": {},
   "outputs": [],
   "source": [
    "annotated_ds = []\n",
    "annotated_ds.append(TrainingsDataset(annotated_labels, transforms=get_transform(train=True, h_flip=0, v_flip=0)))\n",
    "annotated_ds.append(TrainingsDataset(annotated_labels, transforms=get_transform(train=True, h_flip=1, v_flip=0)))\n",
    "annotated_ds.append(TrainingsDataset(annotated_labels, transforms=get_transform(train=True, h_flip=0, v_flip=1)))\n",
    "annotated_ds.append(TrainingsDataset(annotated_labels, transforms=get_transform(train=True, h_flip=1, v_flip=1)))\n",
    "\n",
    "concat_ds = data.ConcatDataset(annotated_ds)\n",
    "\n",
    "#Setup: Train-Validation-Split & Dataloaders\n",
    "generator1 = torch.Generator().manual_seed(99)\n",
    "annotated_ds_train, annotated_ds_test = data.random_split(concat_ds, [0.8, 0.2], generator=generator1)"
   ]
  },
  {
   "cell_type": "code",
   "execution_count": null,
   "metadata": {},
   "outputs": [],
   "source": [
    "annotated_ds[0][0]"
   ]
  },
  {
   "cell_type": "code",
   "execution_count": null,
   "metadata": {},
   "outputs": [],
   "source": [
    "#Visualize original Bounding Boxes\n",
    "\n",
    "'''test_video = 'p2_v5'\n",
    "img_id = 226'''\n",
    "\n",
    "test_video = 'p2_v5'\n",
    "img_id = 230\n",
    "\n",
    "#img_id = 2765\n",
    "\n",
    "'''\n",
    "test_video = 'p2_v5'\n",
    "img_id = 4276\n",
    "\n",
    "\n",
    "test_video = 'p1_v4'\n",
    "img_id = 3500'''\n",
    "\n",
    "\n",
    "coco = COCO(os.path.join(path_base, 'labels', 'COCO', test_video+'.json'))\n",
    "ids = list(sorted(coco.imgs.keys()))\n",
    "\n",
    "path = coco.loadImgs(img_id)[0]['file_name'] \n",
    "image = read_image(os.path.join(path_base, 'frames', test_video, path))\n",
    "\n",
    "'''image = (255.0 * (image - image.min()) / (image.max() - image.min())).to(torch.uint8)\n",
    "image = image[:3, ...]'''\n",
    "\n",
    "annIds = coco.getAnnIds(imgIds=img_id)\n",
    "anns = coco.loadAnns(annIds)\n",
    "\n",
    "categories = []\n",
    "bboxes = []\n",
    "\n",
    "for i in anns:\n",
    "    categories.append(coco.loadCats(i['category_id'])[0][\"name\"])\n",
    "    xmin = i['bbox'][0]\n",
    "    ymin = i['bbox'][1]\n",
    "    xmax = xmin + i['bbox'][2]\n",
    "    ymax = ymin + i['bbox'][3]\n",
    "    bboxes.append(torch.as_tensor([xmin, ymin, xmax, ymax]))\n",
    "\n",
    "\n",
    "bboxes = torch.stack(bboxes)\n",
    "\n",
    "output_image = draw_bounding_boxes(image, bboxes, categories, colors=[\"red\", \"blue\", \"green\", \"orange\", \"violet\", \"pink\", \"cyan\"])\n",
    "\n",
    "img = torchvision.transforms.ToPILImage()(output_image)\n",
    "\n",
    "img.show()"
   ]
  },
  {
   "cell_type": "code",
   "execution_count": null,
   "metadata": {},
   "outputs": [],
   "source": [
    "bboxes"
   ]
  },
  {
   "cell_type": "code",
   "execution_count": null,
   "metadata": {},
   "outputs": [],
   "source": [
    "#Predict and visualize Bounding Boxes for one Image\n",
    "\n",
    "test_video = 'p2_v5'\n",
    "img_id = 230\n",
    "\n",
    "\n",
    "'''\n",
    "test_video = 'p2_v5'\n",
    "img_id = 4276\n",
    "\n",
    "\n",
    "test_video = 'p1_v4'\n",
    "img_id = 3500'''\n",
    "\n",
    "coco = COCO(os.path.join(path_base, 'labels', 'COCO', test_video+'.json'))\n",
    "ids = list(sorted(coco.imgs.keys()))\n",
    "\n",
    "path = coco.loadImgs(img_id)[0]['file_name'] \n",
    "image = read_image(os.path.join(path_base, 'frames', test_video, path))\n",
    "\n",
    "eval_transform = get_transform(train=False, h_flip=0, v_flip=0)\n",
    "\n",
    "#model.eval()\n",
    "#model_no_empty.eval()\n",
    "with torch.no_grad():\n",
    "    x = eval_transform(image)\n",
    "    # convert RGBA -> RGB and move to device\n",
    "    x = x[:3, ...].to(device)\n",
    "    predictions = model([x, ])\n",
    "    #predictions = model_no_empty([x, ])\n",
    "    pred = predictions[0]\n",
    "\n",
    "annIds = coco.getAnnIds(imgIds=img_id)\n",
    "anns = coco.loadAnns(annIds)\n",
    "\n",
    "'''image = (255.0 * (image - image.min()) / (image.max() - image.min())).to(torch.uint8)\n",
    "image = image[:3, ...]'''\n",
    "\n",
    "cats = []\n",
    "scores = []\n",
    "pred_boxes = []\n",
    "\n",
    "for x in range(len(pred[\"boxes\"])):\n",
    "    if pred[\"scores\"][x] >= 0.0:\n",
    "        y = pred[\"labels\"][x].item()\n",
    "        z = names_to_annotation.inv.get(y)\n",
    "        cats.append(z)\n",
    "        scores.append(pred[\"scores\"][x].item())\n",
    "        pred_boxes.append(pred[\"boxes\"][x])\n",
    "\n",
    "pred_labels_sure = []\n",
    "for x in range(len(cats)):\n",
    "    pred_labels_sure.append(f\"{cats[x]}: {scores[x]:.5f}\")\n",
    "\n",
    "\n",
    "pred_boxes = torch.stack(pred_boxes)\n",
    "\n",
    "output_image = draw_bounding_boxes(image, pred_boxes, pred_labels_sure, colors=[\"red\", \"blue\", \"green\", \"orange\", \"violet\", \"pink\", \"cyan\", \"beige\", \"black\", \"crimson\", \"yellow\"])\n",
    "\n",
    "img = torchvision.transforms.ToPILImage()(output_image)\n",
    "\n",
    "img.show()"
   ]
  },
  {
   "cell_type": "code",
   "execution_count": null,
   "metadata": {},
   "outputs": [],
   "source": [
    "annotated_ds_test[0][1]"
   ]
  },
  {
   "cell_type": "code",
   "execution_count": null,
   "metadata": {},
   "outputs": [],
   "source": [
    "bboxes"
   ]
  },
  {
   "cell_type": "code",
   "execution_count": null,
   "metadata": {},
   "outputs": [],
   "source": [
    "pred_boxes"
   ]
  },
  {
   "cell_type": "code",
   "execution_count": 3,
   "metadata": {},
   "outputs": [
    {
     "data": {
      "image/png": "[encoded data removed]",
      "text/plain": [
       "<Figure size 640x480 with 1 Axes>"
      ]
     },
     "metadata": {},
     "output_type": "display_data"
    }
   ],
   "source": [
    "# Load the training and validation loss dictionaries\n",
    "val_loss = load(open(os.path.dirname(os.getcwd()) + \"\\\\Object_Detection\\\\training_output\\\\lval_loss_no_empty.pkl\", 'rb'))\n",
    " \n",
    "# Retrieve each dictionary's values\n",
    "val_values = []\n",
    "\n",
    "for x in val_loss:\n",
    "    val_values.append(val_loss[x].item())\n",
    " \n",
    "y = len(val_values)+1\n",
    "# Generate a sequence of integers to represent the epoch numbers\n",
    "epochs = range(1, y)\n",
    " \n",
    "# Plot and label the training and validation loss values\n",
    "plt.plot(epochs, val_values, label='Validation Loss')\n",
    " \n",
    "# Add in a title and axes labels\n",
    "plt.title('Validation Loss')\n",
    "plt.xlabel('Epochs')\n",
    "plt.ylabel('Loss')\n",
    " \n",
    "# Set the tick locations\n",
    "plt.xticks(arange(0, y, 2))\n",
    " \n",
    "# Display the plot\n",
    "plt.legend(loc='best')\n",
    "plt.show()"
   ]
  },
  {
   "cell_type": "markdown",
   "metadata": {},
   "source": [
    "Testing after training "
   ]
  },
  {
   "cell_type": "code",
   "execution_count": 8,
   "metadata": {},
   "outputs": [],
   "source": [
    "from torchmetrics.detection import MeanAveragePrecision\n",
    "from tqdm import tqdm"
   ]
  },
  {
   "cell_type": "code",
   "execution_count": 9,
   "metadata": {},
   "outputs": [],
   "source": [
    "preds_0 = []\n",
    "preds_75 = []\n",
    "targets_0 = []\n",
    "targets_75 = []"
   ]
  },
  {
   "cell_type": "code",
   "execution_count": 10,
   "metadata": {},
   "outputs": [
    {
     "data": {
      "text/plain": [
       "device(type='cuda')"
      ]
     },
     "execution_count": 10,
     "metadata": {},
     "output_type": "execute_result"
    }
   ],
   "source": [
    "device"
   ]
  },
  {
   "cell_type": "code",
   "execution_count": null,
   "metadata": {},
   "outputs": [],
   "source": [
    "#Filter bounding boxes with score<0.75\n",
    "\n",
    "for test_frame in tqdm(annotated_ds_test):\n",
    "\n",
    "    test_video = test_frame[2].split('\\\\')[-1]\n",
    "    img_id = test_frame[1]['image_id']\n",
    "\n",
    "    coco = COCO(os.path.join(path_base, 'labels', 'COCO', test_video+'.json'))\n",
    "    ids = list(sorted(coco.imgs.keys()))\n",
    "\n",
    "    path = coco.loadImgs(img_id)[0]['file_name'] \n",
    "    image = read_image(os.path.join(path_base, 'frames', test_video, path))\n",
    "\n",
    "    eval_transform = get_transform(train=False, h_flip=0, v_flip=0)\n",
    "\n",
    "    #model.eval()\n",
    "    #model_no_empty.eval()\n",
    "    with torch.no_grad():\n",
    "        x = eval_transform(image)\n",
    "        # convert RGBA -> RGB and move to device\n",
    "        x = x[:3, ...].to(device)\n",
    "        predictions = model([x, ])\n",
    "        #predictions = model_no_empty([x, ])\n",
    "        pred = predictions[0]\n",
    "\n",
    "    annIds = coco.getAnnIds(imgIds=img_id)\n",
    "    anns = coco.loadAnns(annIds)\n",
    "\n",
    "    categories = []\n",
    "    bboxes = []\n",
    "\n",
    "    for i in anns:\n",
    "        categories.append(names_to_annotation[coco.loadCats(i['category_id'])[0][\"name\"]])\n",
    "        xmin = i['bbox'][0]\n",
    "        ymin = i['bbox'][1]\n",
    "        xmax = xmin + i['bbox'][2]\n",
    "        ymax = ymin + i['bbox'][3]\n",
    "        bboxes.append(torch.as_tensor([xmin, ymin, xmax, ymax]))\n",
    "\n",
    "    bboxes = torch.stack(bboxes)\n",
    "\n",
    "    target_0 = {}\n",
    "    target_0['boxes'] = bboxes.to(device)\n",
    "    target_0['labels'] = torch.as_tensor(categories).to(device)\n",
    "    targets_0.append(target_0)\n",
    "\n",
    "    target_75 = {}\n",
    "    target_75['boxes'] = bboxes.to(device)\n",
    "    target_75['labels'] = torch.as_tensor(categories).to(device)\n",
    "\n",
    "    pred_0 = {}\n",
    "    pred_0['boxes'] = pred['boxes'].to(device)\n",
    "    pred_0['scores'] = pred['scores'].to(device)\n",
    "    pred_0['labels'] = pred['labels'].to(device)\n",
    "    preds_0.append(pred_0)\n",
    "\n",
    "    cats = []\n",
    "    scores = []\n",
    "    pred_boxes = []           \n",
    "    \n",
    "    for x in range(len(pred[\"boxes\"])):\n",
    "        if pred[\"scores\"][x] >= 0.75:\n",
    "            y = pred[\"labels\"][x].item()\n",
    "            cats.append(y)\n",
    "            scores.append(pred[\"scores\"][x].item())\n",
    "            pred_boxes.append(pred[\"boxes\"][x])\n",
    "    \n",
    "    pred_75 = {}\n",
    "    try:\n",
    "        pred_75['boxes'] = torch.stack(pred_boxes).to(device)\n",
    "        pred_75['scores'] = torch.as_tensor(scores).to(device)\n",
    "        pred_75['labels'] = torch.as_tensor(cats).to(device)\n",
    "        preds_75.append(pred_75)\n",
    "        \n",
    "        targets_75.append(target_75)\n",
    "    except:\n",
    "        print('skipped')   "
   ]
  },
  {
   "cell_type": "code",
   "execution_count": null,
   "metadata": {},
   "outputs": [],
   "source": [
    "len(annotated_ds_test)"
   ]
  },
  {
   "cell_type": "code",
   "execution_count": null,
   "metadata": {},
   "outputs": [],
   "source": [
    "print(len(preds_0), len(targets_0), len(preds_75), len(targets_75))"
   ]
  },
  {
   "cell_type": "code",
   "execution_count": 14,
   "metadata": {},
   "outputs": [],
   "source": [
    "# Compute Mean average precision for the unfiltered & filtered bounding boxes\n",
    "\n",
    "metric_0 = MeanAveragePrecision(iou_type=\"bbox\")\n",
    "metric_75 = MeanAveragePrecision(iou_type=\"bbox\")\n",
    "metric_0.update(preds_0, targets_0)\n",
    "metric_75.update(preds_75, targets_75)"
   ]
  },
  {
   "cell_type": "code",
   "execution_count": 15,
   "metadata": {},
   "outputs": [
    {
     "data": {
      "text/plain": [
       "{'map': tensor(0.9483),\n",
       " 'map_50': tensor(0.9913),\n",
       " 'map_75': tensor(0.9829),\n",
       " 'map_small': tensor(0.7369),\n",
       " 'map_medium': tensor(0.8549),\n",
       " 'map_large': tensor(0.9533),\n",
       " 'mar_1': tensor(0.8640),\n",
       " 'mar_10': tensor(0.9653),\n",
       " 'mar_100': tensor(0.9653),\n",
       " 'mar_small': tensor(0.7435),\n",
       " 'mar_medium': tensor(0.8784),\n",
       " 'mar_large': tensor(0.9702),\n",
       " 'map_per_class': tensor(-1.),\n",
       " 'mar_100_per_class': tensor(-1.)}"
      ]
     },
     "execution_count": 15,
     "metadata": {},
     "output_type": "execute_result"
    }
   ],
   "source": [
    "metric_0.compute()"
   ]
  },
  {
   "cell_type": "code",
   "execution_count": 16,
   "metadata": {},
   "outputs": [
    {
     "data": {
      "text/plain": [
       "{'map': tensor(0.9478),\n",
       " 'map_50': tensor(0.9904),\n",
       " 'map_75': tensor(0.9829),\n",
       " 'map_small': tensor(0.7369),\n",
       " 'map_medium': tensor(0.8542),\n",
       " 'map_large': tensor(0.9528),\n",
       " 'mar_1': tensor(0.8636),\n",
       " 'mar_10': tensor(0.9647),\n",
       " 'mar_100': tensor(0.9647),\n",
       " 'mar_small': tensor(0.7435),\n",
       " 'mar_medium': tensor(0.8777),\n",
       " 'mar_large': tensor(0.9697),\n",
       " 'map_per_class': tensor(-1.),\n",
       " 'mar_100_per_class': tensor(-1.)}"
      ]
     },
     "execution_count": 16,
     "metadata": {},
     "output_type": "execute_result"
    }
   ],
   "source": [
    "metric_75.compute()"
   ]
  }
 ],
 "metadata": {
  "kernelspec": {
   "display_name": "Athroskopie",
   "language": "python",
   "name": "python3"
  },
  "language_info": {
   "codemirror_mode": {
    "name": "ipython",
    "version": 3
   },
   "file_extension": ".py",
   "mimetype": "text/x-python",
   "name": "python",
   "nbconvert_exporter": "python",
   "pygments_lexer": "ipython3",
   "version": "3.10.13"
  }
 },
 "nbformat": 4,
 "nbformat_minor": 2
}
